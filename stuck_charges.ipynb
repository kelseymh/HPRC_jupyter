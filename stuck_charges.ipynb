{
 "cells": [
  {
   "cell_type": "code",
   "execution_count": null,
   "id": "4137e11d-5e89-4052-9840-b57774ff8233",
   "metadata": {},
   "outputs": [],
   "source": [
    "from imports import *\n",
    "from chargeSteps import chargeSteps\n",
    "import numpy as np"
   ]
  },
  {
   "cell_type": "code",
   "execution_count": null,
   "id": "37ad4320-6ca2-420b-988c-99950dd7a588",
   "metadata": {},
   "outputs": [],
   "source": [
    "# SuperSim V16-00-00 + elog/2125 runs (pick one!)\n",
    "##data = chargeSteps('data/EPot_highV/V16-00-00/100eh', 'HV100mm')\n",
    "##data = chargeSteps('data/EPot_highV/V16-00-00/100eh-HV100mmSi', 'HV100mmSi')\n",
    "##data = chargeSteps('data/EPot_highV/V16-00-00/100eh-HVeV', 'HVeV')"
   ]
  },
  {
   "cell_type": "code",
   "execution_count": null,
   "id": "3724dc0a-01ca-4bdc-a4b1-7d71977ab1c3",
   "metadata": {},
   "outputs": [],
   "source": [
    "# New TrackLimiter runs (G4CMP-358)\n",
    "##data = chargeSteps('data/EPot_highV/G4CMP358', 'HV100mm', '-max*k')\n",
    "data = chargeSteps('data/EPot_highV/G4CMP358', 'iZIP5', '-max*k',\n",
    "                   volts=[1,4,10,25,50,75,100,200,300,400,500,600,700])"
   ]
  },
  {
   "cell_type": "code",
   "execution_count": null,
   "id": "e3c7a5cf-cc48-49f0-8443-cf5e2529798b",
   "metadata": {},
   "outputs": [],
   "source": [
    "data.limitVoltage(0,150)"
   ]
  },
  {
   "cell_type": "code",
   "execution_count": null,
   "id": "4c7208ba-4926-4bb4-a83a-f851b33f6be8",
   "metadata": {},
   "outputs": [],
   "source": [
    "# SuperSim develop runs (noLimits)\n",
    "##data = chargeSteps('data/EPot_highV/noLimits', 'HV100mm')\n",
    "##data = chargeSteps('data/EPot_highV/noLimits', 'iZIP5')\n",
    "##data = chargeSteps('data/EPot_highV/noLimits', 'HVeV')"
   ]
  },
  {
   "cell_type": "code",
   "execution_count": null,
   "id": "59be510c-8540-49aa-899d-a35f01ba2ae9",
   "metadata": {},
   "outputs": [],
   "source": [
    "# New intervalley scattering code (G4CMP-404)\n",
    "##data = chargeSteps('data/EPot_highV/G4CMP404','HV100mm','-newIV')"
   ]
  },
  {
   "cell_type": "code",
   "execution_count": null,
   "id": "4af09acb-39e3-4feb-9a32-90f417e5b953",
   "metadata": {},
   "outputs": [],
   "source": [
    "# Fix to TimeStepper for stopping voltage (G4CMP-482)\n",
    "##data = chargeSteps('data/EPot_highV/G4CMP482','HV100mm','-stepperFix')\n",
    "\n",
    "# Apply voltage dependent step limit, in G4CMP-482 branch\n",
    "##data = chargeSteps('data/EPot_highV/G4CMP482','HV100mm','-max*k')"
   ]
  },
  {
   "cell_type": "code",
   "execution_count": null,
   "id": "710cd9c4-c2cb-49dd-9542-ed91e14fddae",
   "metadata": {},
   "outputs": [],
   "source": [
    "data.StepStack(\"E\", log=False)"
   ]
  },
  {
   "cell_type": "code",
   "execution_count": null,
   "id": "7d8ffa8a-bc6f-46f7-95d4-4b64086dd59f",
   "metadata": {},
   "outputs": [],
   "source": [
    "data.StepStack(\"U\", log=False)"
   ]
  },
  {
   "cell_type": "code",
   "execution_count": null,
   "id": "66770b03-8d55-4d12-9b4f-b50f9a559699",
   "metadata": {},
   "outputs": [],
   "source": [
    "data.PathLengths(\"E\", 10)"
   ]
  },
  {
   "cell_type": "code",
   "execution_count": null,
   "id": "cefe696a-4966-4cd1-b80d-c9946111aede",
   "metadata": {},
   "outputs": [],
   "source": [
    "data.PathLengths(\"E\", data.vmax)"
   ]
  },
  {
   "cell_type": "code",
   "execution_count": null,
   "id": "b4068e53-740a-4957-9342-a5e49b45c9b9",
   "metadata": {},
   "outputs": [],
   "source": [
    "data.PathLengths(\"U\", data.vmax)"
   ]
  },
  {
   "cell_type": "code",
   "execution_count": null,
   "id": "1e8a1c3d-9ba9-429c-b336-5046abe72bd0",
   "metadata": {},
   "outputs": [],
   "source": [
    "#data.PathRatio(\"E\", data.vmax)"
   ]
  },
  {
   "cell_type": "code",
   "execution_count": null,
   "id": "88112d1a-e6d9-4e31-9dd4-4e60103706c7",
   "metadata": {},
   "outputs": [],
   "source": [
    "#data.PathRatio(\"U\", data.vmax)"
   ]
  },
  {
   "cell_type": "code",
   "execution_count": null,
   "id": "279060da-3d82-4bcb-8caf-565b68bce691",
   "metadata": {},
   "outputs": [],
   "source": [
    "#data.PathVsSteps(\"E\", 200)"
   ]
  },
  {
   "cell_type": "code",
   "execution_count": null,
   "id": "a82accfa-54a0-4b75-8d62-831248bf9c26",
   "metadata": {},
   "outputs": [],
   "source": [
    "#data.PathVsSteps(\"E\", data.vmax)"
   ]
  },
  {
   "cell_type": "code",
   "execution_count": null,
   "id": "261d9135-4ce4-43f2-8350-e27273061b09",
   "metadata": {},
   "outputs": [],
   "source": [
    "#data.PathVsSteps(\"U\", data.vmax)"
   ]
  },
  {
   "cell_type": "code",
   "execution_count": null,
   "id": "fd6c4c4d-50b8-4256-80e3-04959938ee17",
   "metadata": {},
   "outputs": [],
   "source": [
    "data.StepsVsFinalRZ(\"E\", 10)"
   ]
  },
  {
   "cell_type": "code",
   "execution_count": null,
   "id": "4d0b69ed-a93b-4581-8ec2-4cba377f2efb",
   "metadata": {},
   "outputs": [],
   "source": [
    "data.StepsVsFinalRZ(\"E\", 100)"
   ]
  },
  {
   "cell_type": "code",
   "execution_count": null,
   "id": "94de693d-72d7-4695-91d2-a3213eca3032",
   "metadata": {},
   "outputs": [],
   "source": [
    "#data.StepsVsFinalRZ(\"E\", 200)"
   ]
  },
  {
   "cell_type": "code",
   "execution_count": null,
   "id": "092f3f1a-b58f-4fbc-a43f-dacd058178e5",
   "metadata": {},
   "outputs": [],
   "source": [
    "#data.StepsVsFinalRZ(\"E\", 300)"
   ]
  },
  {
   "cell_type": "code",
   "execution_count": null,
   "id": "31a7cb28-6293-476c-b1b1-ea8d919b67e7",
   "metadata": {},
   "outputs": [],
   "source": [
    "#data.StepsVsFinalRZ(\"E\", 400)"
   ]
  },
  {
   "cell_type": "code",
   "execution_count": null,
   "id": "fc786a16-5ac4-4e22-83a0-dd08c3437916",
   "metadata": {},
   "outputs": [],
   "source": [
    "data.StepsVsFinalRZ(\"E\", data.vmax)"
   ]
  },
  {
   "cell_type": "code",
   "execution_count": null,
   "id": "d903d570-cbd1-4174-b008-42f796246e1d",
   "metadata": {},
   "outputs": [],
   "source": [
    "data.StepsVsFinalRZ(\"U\", 10)"
   ]
  },
  {
   "cell_type": "code",
   "execution_count": null,
   "id": "52aa3c59-d64b-4ac6-838d-25d1ee2c7b59",
   "metadata": {},
   "outputs": [],
   "source": [
    "#data.StepsVsFinalRZ(\"U\", 100)"
   ]
  },
  {
   "cell_type": "code",
   "execution_count": null,
   "id": "c5cdd876-d73b-46c8-bc5b-803fd04dea03",
   "metadata": {},
   "outputs": [],
   "source": [
    "#data.StepsVsFinalRZ(\"U\", 200)"
   ]
  },
  {
   "cell_type": "code",
   "execution_count": null,
   "id": "3981ffb9-3bcf-4e1e-b8f2-799541e04a1d",
   "metadata": {},
   "outputs": [],
   "source": [
    "#data.StepsVsFinalRZ(\"U\", 500)"
   ]
  },
  {
   "cell_type": "code",
   "execution_count": null,
   "id": "824804ce-6518-4b76-bdb2-792b2970d99e",
   "metadata": {},
   "outputs": [],
   "source": [
    "#data.StepsVsFinalRZ(\"U\", 800)"
   ]
  },
  {
   "cell_type": "code",
   "execution_count": null,
   "id": "3197c87f-f766-4600-86f0-ffc279ca8add",
   "metadata": {},
   "outputs": [],
   "source": [
    "data.StepsVsFinalRZ(\"U\", data.vmax)"
   ]
  },
  {
   "cell_type": "code",
   "execution_count": null,
   "id": "846c1a0d-0ffa-4d74-a82e-6690f338bf5b",
   "metadata": {},
   "outputs": [],
   "source": [
    "# For iZIP5, why is 1000V data point at same maxSteps as 900V?\n",
    "maxUhit = np.array(data.StepsVsVData(\"U\"))/1e3    # Fit in thousands\n",
    "curve = np.polynomial.Polynomial((100,0,0.1,-0.001,2.5e-6))   # Initial guess\n",
    "vrange = (data.vmin,data.vmax)\n",
    "quad = curve.fit(data.voltage[:-1], maxUhit[:-1], 4, domain=[])\n",
    "print(quad)\n",
    "data.StepsVsVoltage(curve=quad*1e3,suffix=\"FitUniform\")\n",
    "maxUhit=None\n",
    "curve=None\n",
    "quad=None"
   ]
  },
  {
   "cell_type": "code",
   "execution_count": null,
   "id": "8d0d8e45-b372-454b-a205-486f0e6a005b",
   "metadata": {},
   "outputs": [],
   "source": [
    "coeffK = (1200.,-60.,0.65,-1.8e-3,1.85e-6)       # Rounded, for kilosteps\n",
    "fit = 1e3*np.polynomial.Polynomial(coeffK,window=vrange)\n",
    "data.StepsVsVoltage(curve=fit,suffix=\"Fit2Uniform\")"
   ]
  },
  {
   "cell_type": "code",
   "execution_count": null,
   "id": "05eae755-de23-4c39-be59-2bf0f815ff92",
   "metadata": {},
   "outputs": [],
   "source": [
    "# Bounding coefficient attempt for iZIP5\n",
    "upperK = (1200.,0,0.6,-0.0001,1e-6)\n",
    "bound = 1e3*np.polynomial.Polynomial(upperK,vrange,window=vrange)\n",
    "data.StepsVsVoltage(curve=bound,suffix=\"Bound\")"
   ]
  },
  {
   "cell_type": "code",
   "execution_count": null,
   "id": "27fa6f1a-1866-4202-904f-eed9c98ee0d3",
   "metadata": {},
   "outputs": [],
   "source": [
    "data.StepsVsVoltage(stepcut=1e7,curve=bound)"
   ]
  },
  {
   "cell_type": "code",
   "execution_count": null,
   "id": "9cf43881-24f0-44fd-bf86-f17ca8cb8e65",
   "metadata": {},
   "outputs": [],
   "source": [
    "# Make consolidated plots overlaying three detector types\n",
    "\n",
    "thedir = 'data/EPot_highV/noLimits'\n",
    "snolab = chargeSteps(thedir, 'HV100mm', volts=(1,4,10,25,50,75,100,200))\n",
    "soudan = chargeSteps(thedir, 'iZIP5', volts=(1,4,10,25,50,75,100,200))\n",
    "hvev   = chargeSteps(thedir, 'HVeV')"
   ]
  },
  {
   "cell_type": "code",
   "execution_count": null,
   "id": "0dcb01d7-9a2f-4415-a040-5bd519044fef",
   "metadata": {},
   "outputs": [],
   "source": [
    "snolab.PlotStepsVsVoltage(\"U\")\n",
    "soudan.PlotStepsVsVoltage(\"U\")\n",
    "hvev.PlotStepsVsVoltage(\"U\")\n",
    "plt.title(\"Charged Tracks, Uniform Field Model\")\n",
    "plt.legend()\n",
    "plt.savefig(\"MaxSteps-Voltage_allDet.png\")"
   ]
  },
  {
   "cell_type": "code",
   "execution_count": null,
   "id": "acba0938-923f-4887-9528-5dd459a51e64",
   "metadata": {},
   "outputs": [],
   "source": [
    "snolab.PlotStepsVsField(\"U\")\n",
    "soudan.PlotStepsVsField(\"U\")\n",
    "hvev.PlotStepsVsField(\"U\")\n",
    "plt.xlim(0,20000)\n",
    "plt.title(\"Charged Tracks, Uniform Field Model\")\n",
    "plt.legend()\n",
    "plt.savefig(\"MaxSteps-EField_allDet.png\")"
   ]
  },
  {
   "cell_type": "code",
   "execution_count": null,
   "id": "e41ee51d-3d6f-41e4-9001-128c580a9310",
   "metadata": {},
   "outputs": [],
   "source": []
  }
 ],
 "metadata": {
  "kernelspec": {
   "display_name": "Python 3 (ipykernel)",
   "language": "python",
   "name": "python3"
  },
  "language_info": {
   "codemirror_mode": {
    "name": "ipython",
    "version": 3
   },
   "file_extension": ".py",
   "mimetype": "text/x-python",
   "name": "python",
   "nbconvert_exporter": "python",
   "pygments_lexer": "ipython3",
   "version": "3.10.12"
  }
 },
 "nbformat": 4,
 "nbformat_minor": 5
}
