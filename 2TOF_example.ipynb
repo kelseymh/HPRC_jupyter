{
 "cells": [
  {
   "cell_type": "code",
   "execution_count": null,
   "id": "5ca620fc-d247-412d-9435-79b7830993d7",
   "metadata": {},
   "outputs": [],
   "source": [
    "import matplotlib.pyplot as plt\n",
    "%matplotlib inline\n",
    "import numpy as np\n",
    "import ROOT \n",
    "from cats.cdataframe import CDataFrame\n",
    "import OF1X2"
   ]
  },
  {
   "cell_type": "code",
   "execution_count": null,
   "id": "7ea40518-7297-42ef-8652-83fef7c9fef9",
   "metadata": {},
   "outputs": [],
   "source": [
    "Templatefile = 'Templates_8192.pkl'\n",
    "PSDfile = 'PSDs_27190502_170014_0.joblib'\n",
    "PSDfile= None\n",
    "DMCfile = 'supersim_test_energyGap_10220626_0000.root'\n",
    "FastDMCfile = 'FastDMC-2T-10keV_00240710_0000.root'\n",
    "import os,sys\n",
    "import pandas as pd\n",
    "supersim_path = os.getenv(\"CDMS_SUPERSIM\")\n",
    "print(supersim_path)\n",
    "SuperSim = os.environ[\"CDMS_SUPERSIM\"]\n",
    "print(SuperSim)\n",
    "fastTemplateFile = os.path.join(SuperSim,\"CDMSgeometry\",\"data\",\"dmc\",\"CDMSlite1\",\"TESTemplatesFast\")\n",
    "slowTemplateFile = os.path.join(SuperSim,\"CDMSgeometry\",\"data\",\"dmc\",\"CDMSlite1\",\"TESTemplatesSlow\")\n",
    "chanNum= 2"
   ]
  },
  {
   "cell_type": "code",
   "execution_count": null,
   "id": "5dc59132-7be9-4d39-a702-714376b2021e",
   "metadata": {},
   "outputs": [],
   "source": [
    "reconstructedTrace, ShiftedBins, TimeBins, Trace = OF1X2.reconstructed_pulse(slowTemplateFile, fastTemplateFile, FastDMCfile, chanNum,PSDfile)"
   ]
  },
  {
   "cell_type": "code",
   "execution_count": null,
   "id": "f7af85f5-526d-422e-94ae-566f5bbf1d9b",
   "metadata": {},
   "outputs": [],
   "source": [
    "plt.plot(TimeBins,Trace, color = 'slategray', label = f'CH {chanNum} Trace', lw = 2)\n",
    "plt.plot(ShiftedBins, reconstructedTrace, color = 'black', ls = '--', label = '2TOF Reconstructed Trace', lw = 2)\n",
    "\n",
    "plt.xlabel(r'Time [$\\mathrm{\\mu s}$]')\n",
    "plt.ylabel(r'Amplitude [$\\mathrm{\\mu A}$]')\n",
    "\n",
    "plt.legend()"
   ]
  },
  {
   "cell_type": "code",
   "execution_count": null,
   "id": "37292f4f-65bf-4b8a-9914-7c210304b660",
   "metadata": {},
   "outputs": [],
   "source": [
    "plt.plot(TimeBins,Trace, color = 'slategray', label = 'CH PA TES Trace', lw = 2)\n",
    "plt.plot(TimeBins,reconstructedTrace, color = 'black', ls = '--', label = '2TOF Reconstructed Trace', lw = 2)\n",
    "#plt.xlim(-100, 6000)\n",
    "plt.xlabel(r'Time [$\\mathrm{\\mu s}$]')\n",
    "plt.ylabel(r'Amplitude [$\\mathrm{\\mu A}$]')\n",
    "plt.yscale('log')\n",
    "plt.legend()"
   ]
  },
  {
   "cell_type": "code",
   "execution_count": null,
   "id": "a4d3c573-4d95-4574-8f86-1eab04dd1445",
   "metadata": {},
   "outputs": [],
   "source": []
  }
 ],
 "metadata": {
  "kernelspec": {
   "display_name": "Python 3 (ipykernel)",
   "language": "python",
   "name": "python3"
  },
  "language_info": {
   "codemirror_mode": {
    "name": "ipython",
    "version": 3
   },
   "file_extension": ".py",
   "mimetype": "text/x-python",
   "name": "python",
   "nbconvert_exporter": "python",
   "pygments_lexer": "ipython3",
   "version": "3.10.12"
  }
 },
 "nbformat": 4,
 "nbformat_minor": 5
}
