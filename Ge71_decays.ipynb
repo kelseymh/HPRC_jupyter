{
 "cells": [
  {
   "cell_type": "code",
   "execution_count": null,
   "id": "4feaaeed-8418-48ce-a79c-8600d5b11db8",
   "metadata": {},
   "outputs": [],
   "source": [
    "from imports import *"
   ]
  },
  {
   "cell_type": "code",
   "execution_count": null,
   "id": "6d125b35-1e0a-4c10-a185-fe861faead1b",
   "metadata": {},
   "outputs": [],
   "source": [
    "datadir = \"data/Ge71/ExtraEnergy/\"\n",
    "decayOnly = datadir+\"Ge71-vacuum_00250531_000000.root\"\n",
    "singleZip = datadir+\"Ge71-iZIP7_00250531_000000.root\"\n",
    "centerCUTE = datadir+\"Ge71-centerCUTE_23250531_000000.root\"\n",
    "contamCUTE = datadir+\"Ge71-contamCUTE_23250531_000000.root\""
   ]
  },
  {
   "cell_type": "code",
   "execution_count": null,
   "id": "db93e001-4569-4811-a45e-46b4b503fdf1",
   "metadata": {},
   "outputs": [],
   "source": [
    "Cf252n1 = datadir+\"Ge-1n_00250601_000000.root\"\n",
    "Cf252n337 = datadir+\"Ge-3.37n_00250601_000000.root\""
   ]
  },
  {
   "cell_type": "code",
   "execution_count": null,
   "id": "accdebf1-7417-46a3-a32b-a07b3907c9df",
   "metadata": {},
   "outputs": [],
   "source": [
    "def Ge71energy(file,subtitle,name):\n",
    "    \"\"\"Processes job with direct Ge-71 isotope source; every event is a decay.\"\"\"\n",
    "    branches = ['EventNum','KE']\n",
    "    mcDecays = CDataFrame(\"G4SimDir/mcDecays\", file).AsNumpy(branches)\n",
    "    KEsum = np.bincount(mcDecays['EventNum'].astype(int), weights=mcDecays['KE']/1e3)\n",
    "    plt.hist(KEsum,bins=100)\n",
    "    plt.title(\"Ge-71 decay X-rays: \"+subtitle)\n",
    "    plt.xlabel(\"Visible decay energy [keV]\")\n",
    "    plt.savefig(datadir+f\"Ge71_{name}.png\")"
   ]
  },
  {
   "cell_type": "code",
   "execution_count": null,
   "id": "96533f76-64fe-4059-98b8-4fb3de735b9e",
   "metadata": {},
   "outputs": [],
   "source": [
    "def Ge71daughters(file,subtitle,name):\n",
    "    \"\"\"Processes neutron activation job, looks for daughters from a Ge-71 decay\n",
    "       mixed in with many others.  Uses parent of Ga-71 nucleus as selector.\"\"\"\n",
    "    branches = ['EventNum','Parent','PType','PName','KE']\n",
    "    mcDecays = CDataFrame(\"G4SimDir/mcDecays\", file).AsNumpy(branches)\n",
    "\n",
    "    evtInt = mcDecays['EventNum'].astype(int)\n",
    "    parInt = mcDecays['Parent'].astype(int)\n",
    "    evPar = np.transpose([evtInt,parInt])\n",
    "    isGe71 = (mcDecays['PType']==71031)    # Exactly one per Ge-71 decay\n",
    "    geEP = np.unique(evPar[isGe71],axis=1)\n",
    "\n",
    "    # KE of Ge-71 daughters in all events (non-Ge71 are zero)\n",
    "    secKE = mcDecays['KE']*np.isin(evPar,geEP).all(-1)\n",
    "\n",
    "    # Use Numpy to sum KE by event and parent as a histogram\n",
    "    evtBins = int(evtInt.max()+1)\n",
    "    parBins = int(parInt.max()+1)\n",
    "    KEsum,_,_ = np.histogram2d(evtInt,parInt,bins=[evtBins,parBins],weights=secKE)\n",
    "    \n",
    "    plt.hist(KEsum[KEsum>0.],bins=100)\n",
    "    plt.title(\"Ge-71 decay X-rays: \"+subtitle)\n",
    "    plt.xlabel(\"Visible decay energy [keV]\")\n",
    "    plt.savefig(datadir+f\"Ge71_{name}.png\")"
   ]
  },
  {
   "cell_type": "code",
   "execution_count": null,
   "id": "4362c957-e31f-4b05-b6a3-717c4fa998c7",
   "metadata": {},
   "outputs": [],
   "source": [
    "branches = ['EventNum','Parent','PType','PName','KE']\n",
    "mcDecays = CDataFrame(\"G4SimDir/mcDecays\", Cf252n1).AsNumpy(branches)\n",
    "evtInt = mcDecays['EventNum'].astype(int)\n",
    "parInt = mcDecays['Parent'].astype(int)\n",
    "evPar = np.transpose([evtInt,parInt])\n",
    "isGe71 = (mcDecays['PType']==71031)    # Exactly one per Ge-71 decay\n",
    "geEP = np.unique(evPar[isGe71],axis=1)"
   ]
  },
  {
   "cell_type": "code",
   "execution_count": null,
   "id": "d9102a9b-ea4f-4c15-8a67-ec58cf36b5c1",
   "metadata": {},
   "outputs": [],
   "source": [
    "geEP"
   ]
  },
  {
   "cell_type": "code",
   "execution_count": null,
   "id": "4f315c13-5d35-4686-bab4-94cd3ac03bd6",
   "metadata": {},
   "outputs": [],
   "source": [
    "KEsum = np.array([mcDecays['KE'][np.isin(evPar,ge).all(-1)].shape[0] for ge in geEP])"
   ]
  },
  {
   "cell_type": "code",
   "execution_count": null,
   "id": "9ac04d63-98bd-4df6-aeec-c03b9857e584",
   "metadata": {},
   "outputs": [],
   "source": [
    "plt.hist(KEsum)"
   ]
  },
  {
   "cell_type": "code",
   "execution_count": null,
   "id": "1717da1e-f886-4b5a-9d3c-57f3846a0350",
   "metadata": {},
   "outputs": [],
   "source": [
    "Ge71daughters(decayOnly,\"Decay in vacuum\",\"vacuum\")"
   ]
  },
  {
   "cell_type": "code",
   "execution_count": null,
   "id": "91e2e566-ec39-489e-ade2-113dc06b157d",
   "metadata": {},
   "outputs": [],
   "source": [
    "Ge71daughters(Cf252n1,\"Neutron activation\",\"Cf252n1\")"
   ]
  },
  {
   "cell_type": "code",
   "execution_count": null,
   "id": "6fc3aadd-6c5a-4757-8a58-78c8d2873810",
   "metadata": {},
   "outputs": [],
   "source": [
    "Ge71energy(decayOnly,\"Decay in vacuum\",\"vacuum\")"
   ]
  },
  {
   "cell_type": "code",
   "execution_count": null,
   "id": "c9f6d38c-b1a3-44a1-9e9c-cc05218ad331",
   "metadata": {},
   "outputs": [],
   "source": [
    "Ge71energy(singleZip,\"Decay in iZIP7\",\"iZIP7\")"
   ]
  },
  {
   "cell_type": "code",
   "execution_count": null,
   "id": "f278babd-8784-44cc-9fbe-fdfde3f7d55e",
   "metadata": {},
   "outputs": [],
   "source": [
    "Ge71energy(centerCUTE,\"At (0,0,0) in CUTE\",\"centerCUTE\")"
   ]
  },
  {
   "cell_type": "code",
   "execution_count": null,
   "id": "c8c91cab-79d6-4e44-8b2e-41e849b8a447",
   "metadata": {},
   "outputs": [],
   "source": [
    "Ge71energy(contamCUTE,\"in all CUTE HV100mm\",\"contamCUTE\")"
   ]
  }
 ],
 "metadata": {
  "kernelspec": {
   "display_name": "Python 3 (ipykernel)",
   "language": "python",
   "name": "python3"
  },
  "language_info": {
   "codemirror_mode": {
    "name": "ipython",
    "version": 3
   },
   "file_extension": ".py",
   "mimetype": "text/x-python",
   "name": "python",
   "nbconvert_exporter": "python",
   "pygments_lexer": "ipython3",
   "version": "3.10.12"
  }
 },
 "nbformat": 4,
 "nbformat_minor": 5
}
