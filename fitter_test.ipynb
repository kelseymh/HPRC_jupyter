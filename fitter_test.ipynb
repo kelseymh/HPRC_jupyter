{
 "cells": [
  {
   "cell_type": "code",
   "execution_count": null,
   "id": "f3785f6a-cb39-4d00-a605-5d17470ed9e5",
   "metadata": {},
   "outputs": [],
   "source": [
    "# This code block fails with a \"32-bit LAPACK\" complaint when run\n",
    "# in the Singularity container.\n",
    "\n",
    "from dmc import traceFitter\n",
    "fitter = traceFitter(\"data/CDMSlite_TES/lite-ds100eV-maxLuke100000_51230513_0000.root\", \"TES\")\n",
    "fitter.doFit(event=0,channel=0)"
   ]
  },
  {
   "cell_type": "code",
   "execution_count": null,
   "id": "a28f257d-8be9-488e-af74-2d72f2676486",
   "metadata": {},
   "outputs": [],
   "source": [
    "# This code block succeeds when run at the command line,\n",
    "# Even in the Singularity container.  It fails in Jupyter\n",
    "# with the same 32-bit LAPACK complaint as above.\n",
    "\n",
    "import numpy as np\n",
    "from scipy.optimize import curve_fit\n",
    "\n",
    "# Pulse shape function, used by curve_fit\n",
    "def TESbase(t, t_r, t_f):\n",
    "    \"\"\"Normalized, zero-aligned TES pulse shape.  Used by TESshape.\"\"\"\n",
    "    if np.isscalar(t):\n",
    "        return np.exp(-t/t_f)-np.exp(-t/t_r) if (t>=0) else 0.\n",
    "    else:\n",
    "        # FIXME: Why doesn't np.exp() above do this correctly?\n",
    "        return np.array([TESbase(ti,t_r,t_f) for ti in t])\n",
    "\n",
    "def TESshape(x, a, t_r, t_f, offset):\n",
    "    \"\"\"TES pulse shape for fitting: 'a' is height of peak, 'offset' is\n",
    "       time shift from t=0.\"\"\"\n",
    "    tpeak = np.log(t_f/t_r) * t_f*t_r / (t_f-t_r)\n",
    "    peak = TESbase(tpeak, t_f, t_r)\n",
    "    return (a/peak)*TESbase(x-offset, t_f, t_r)\n",
    "\n",
    "# Use the TES trace binning for Soudan (iZIP5, CDMSlite)\n",
    "nBins, T0, dT = 4096, -819.2, 1.6   # us\n",
    "bins = np.arange(nBins)*dT+T0\n",
    "\n",
    "# Generate a normalized trace with rise and fall time, no time offset\n",
    "\n",
    "riseTime = 40. # us\n",
    "fallTime = 600. # us\n",
    "Ipeak = 9.14 # uA --> PTOF peak for 123.25 keV phonon energy\n",
    "\n",
    "# FIXME:  Would love to just call TESshape(bins,I,rT,fT,offset)\n",
    "trace = np.array([TESshape(ti,Ipeak,riseTime,fallTime,0.) for ti in bins])\n",
    "\n",
    "# Define \"guess ranges\" for the parameters, like traceFitter does\n",
    "fitStart = 525\t\t\t# Bin indices; t=0 is bin 512\n",
    "fitEnd   = 3500\n",
    "guess  = np.array([Ipeak,riseTime,fallTime,0.])\n",
    "bounds = (0.1*guess, 5.*guess)\n",
    "\n",
    "bounds[0][3] = -np.inf\t\t# Can't have (0,0) bounding\n",
    "bounds[1][3] = np.inf"
   ]
  },
  {
   "cell_type": "code",
   "execution_count": null,
   "id": "242d6c65-c840-41b5-a076-f2c832b40854",
   "metadata": {},
   "outputs": [],
   "source": [
    "# Do the fit the way traceFitter.fitTrace does it\n",
    "params, _ = curve_fit(TESshape, bins[fitStart:fitEnd], trace[fitStart:fitEnd],\n",
    "                      p0=guess, bounds=bounds)\n",
    "\n",
    "print(f\" Generated trace: {guess}\\n Fit result: {params}\")"
   ]
  },
  {
   "cell_type": "code",
   "execution_count": null,
   "id": "b2d7796e-97f3-46c2-9105-f05e47d47653",
   "metadata": {},
   "outputs": [],
   "source": []
  }
 ],
 "metadata": {
  "kernelspec": {
   "display_name": "Python 3 (ipykernel)",
   "language": "python",
   "name": "python3"
  },
  "language_info": {
   "codemirror_mode": {
    "name": "ipython",
    "version": 3
   },
   "file_extension": ".py",
   "mimetype": "text/x-python",
   "name": "python",
   "nbconvert_exporter": "python",
   "pygments_lexer": "ipython3",
   "version": "3.10.12"
  }
 },
 "nbformat": 4,
 "nbformat_minor": 5
}
