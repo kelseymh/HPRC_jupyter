{
 "cells": [
  {
   "cell_type": "code",
   "execution_count": null,
   "id": "f0a1e65b-5c21-4678-99ec-547740921398",
   "metadata": {},
   "outputs": [],
   "source": [
    "from imports import *\n",
    "from dmc import traceReader\n",
    "%matplotlib inline"
   ]
  },
  {
   "cell_type": "code",
   "execution_count": null,
   "id": "f531f2b8-969b-43c0-91d2-ab3d92a252f0",
   "metadata": {},
   "outputs": [],
   "source": [
    "# Use traces with large trigger shifts -- P*S1 channels have -100 to -400 us shifts\n",
    "trigShift = 'data/FastDMC/TriggerShift/iZIP5-TrigShift_00241024_0000.root'"
   ]
  },
  {
   "cell_type": "code",
   "execution_count": null,
   "id": "688b69c6-5ad7-43e3-b5d9-32a48d215ba0",
   "metadata": {},
   "outputs": [],
   "source": [
    "# Full set of HV100mm ER events from DC3\n",
    "import glob\n",
    "DC3 = glob.glob(\"data/CDMSlite_TES/weirdEvents/DC3_HV100mm/*.root\")"
   ]
  },
  {
   "cell_type": "code",
   "execution_count": null,
   "id": "b851a0ae-03f7-48db-b02c-98308e6e4f91",
   "metadata": {},
   "outputs": [],
   "source": [
    "def bestI0(file, sensor, event, iChan):\n",
    "    \"\"\"Compute 'adaptive I0' for trace, scanning the supposed pre-trigger\n",
    "       baseline for the range of values with the smallest RMS.  This\n",
    "       should exclude the region where the real trace starts.  Returns\n",
    "       computed I0 value, along with index of average and RMS value.\"\"\"\n",
    "    reader = traceReader(file)\n",
    "    trace = traceReader.loadTrace(event, sensor, iChan)\n",
    "\n",
    "    start = 5                   # Need some bins to compute RMS\n",
    "\n",
    "    rms = [np.std(trace[:i],ddof=1) for i in range(start,len(trace))]\n",
    "    eom = [np.std(trace[:i])/sqrt(i) for i in range(start,len(trace))]\n",
    "    ibest = eom.index(min(eom))+start\n",
    "\n",
    "    return np.mean(trace[:ibest]), ibest, eom[ibest]"
   ]
  },
  {
   "cell_type": "code",
   "execution_count": null,
   "id": "73787f01-7f4a-4005-a121-b31072b32cb9",
   "metadata": {},
   "outputs": [],
   "source": [
    "reader = traceReader(DC3)\n",
    "traces = reader.rawTES(event=-1)\n",
    "bestI0, err, ibest = reader.bestI0(traces)"
   ]
  },
  {
   "cell_type": "code",
   "execution_count": null,
   "id": "e0ca134f-8622-4f09-9dbf-709e0fc9691e",
   "metadata": {},
   "outputs": [],
   "source": [
    "print(\"Average from 0 to bin\",np.mean(ibest),\"=\", np.mean(bestI0),\"+-\",np.mean(err))"
   ]
  },
  {
   "cell_type": "code",
   "execution_count": null,
   "id": "4f3cdb73-6df3-465a-bd79-7f94329153ea",
   "metadata": {},
   "outputs": [],
   "source": [
    "event = 7\n",
    "chans = reader.channels(\"TES\")\n",
    "for i in range(len(chans)):\n",
    "    I0, ibase, err = reader.bestI0(reader.rawTES(event, i))\n",
    "    print(chans[i],\": I0 =\",I0,\"+-\",err,\" to bin\",ibase)"
   ]
  },
  {
   "cell_type": "code",
   "execution_count": null,
   "id": "872ebb1e-b478-49bc-a381-0259c76bbbde",
   "metadata": {},
   "outputs": [],
   "source": []
  }
 ],
 "metadata": {
  "kernelspec": {
   "display_name": "Python 3 (ipykernel)",
   "language": "python",
   "name": "python3"
  },
  "language_info": {
   "codemirror_mode": {
    "name": "ipython",
    "version": 3
   },
   "file_extension": ".py",
   "mimetype": "text/x-python",
   "name": "python",
   "nbconvert_exporter": "python",
   "pygments_lexer": "ipython3",
   "version": "3.10.12"
  }
 },
 "nbformat": 4,
 "nbformat_minor": 5
}
