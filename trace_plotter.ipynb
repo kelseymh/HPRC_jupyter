{
 "cells": [
  {
   "cell_type": "code",
   "execution_count": null,
   "metadata": {},
   "outputs": [],
   "source": [
    "from imports import *\n",
    "import dmc\n",
    "\n",
    "%matplotlib inline\n",
    "# NOTE: The \"%...\" directives must be directly in the notebook"
   ]
  },
  {
   "cell_type": "code",
   "execution_count": null,
   "metadata": {},
   "outputs": [],
   "source": [
    "def niceGrid(nchan):\n",
    "    \"\"\"Factor value 'nchan' into nice grid, either NxN or Nx(N+1).\n",
    "       There may be empty slots in the bottom row.\"\"\"\n",
    "    sqrtn = int(ceil(sqrt(nchan)))\n",
    "    lo,hi = sqrtn-1,sqrtn+1\n",
    "    if (lo*sqrtn >= nchan): return lo,sqrtn\n",
    "    if (sqrtn*sqrtn >= nchan): return sqrtn,sqrtn\n",
    "    return sqrtn,hi\n",
    "\n",
    "def TEStiles(file,outname,title,event=0):\n",
    "    \"\"\"Make 4x3 tiled set of HV100mm TES channel plots.\"\"\"\n",
    "    reader = dmc.traceReader(file)\n",
    "    chans = reader.channels(\"TES\")\n",
    "    bins = reader.timeBins(\"TES\")\n",
    "\n",
    "    rows,cols = niceGrid(len(chans))\n",
    "    fig, axes = subplots(rows,cols,figsize=(9,6), dpi = 200)\n",
    "    fig.set_tight_layout(True)\n",
    "\n",
    "    for chan in range(len(chans)):\n",
    "        currentAxis = axes.flatten()[chan]\n",
    "    \n",
    "        # Get TES trace for plotting\n",
    "        trace = reader.TES(event, chan)\n",
    "        currentAxis.plot(bins, trace, lw=1, color = 'C0', label=chans[chan])\n",
    "    \n",
    "        currentAxis.set_xlim([-100.,2000.])\n",
    "        currentAxis.set_xlabel(\"Time [\\u03BCs]\")\n",
    "        currentAxis.set_ylabel(\"Trace [\\u03BCA]\")\n",
    "        currentAxis.legend()     # Puts channel name inside box\n",
    "\n",
    "    fig.suptitle(title)\n",
    "    fig.savefig(outname+\".png\")"
   ]
  },
  {
   "cell_type": "code",
   "execution_count": null,
   "metadata": {},
   "outputs": [],
   "source": [
    "def TESoverlay(file,outname,title,event=0):\n",
    "    \"\"\"Make single plot showing all 12 HV100mm TES channels.\"\"\"\n",
    "    fig = plt.figure(figsize=(6,4),dpi=200)\n",
    "\n",
    "    reader = dmc.traceReader(file)\n",
    "    bins = reader.timeBins(\"TES\")\n",
    "    chans,traces = reader.plottableTES(event)\n",
    "\n",
    "    currentAxis = plt.gca()\n",
    "    currentAxis.plot(bins,traces,lw=1,label=chans)\n",
    "    \n",
    "    currentAxis.set_xlim([-100.,2000.])\n",
    "    currentAxis.set_xlabel(\"Time [\\u03BCs]\")\n",
    "    currentAxis.set_ylabel(\"Trace [\\u03BCA]\")\n",
    "    currentAxis.legend()     # Puts channel name inside box\n",
    "    fig.suptitle(title)\n",
    "    fig.savefig(outname+\".png\")"
   ]
  },
  {
   "cell_type": "code",
   "execution_count": null,
   "metadata": {},
   "outputs": [],
   "source": [
    "datadir = \"data/CDMSlite_TES/impulse/\"\n",
    "ideal = datadir+\"CDMSlite-impulse_51250410_0000.root\"\n",
    "crystal = datadir+\"CDMSlite-G19N-100eV_51250410_0000.root\""
   ]
  },
  {
   "cell_type": "code",
   "execution_count": null,
   "metadata": {},
   "outputs": [],
   "source": [
    "TESoverlay(ideal, datadir+\"ideal-impulse\",\n",
    "           \"CDMSlite1: 1 meV, 10 meV, 1 eV, 100 eV\");"
   ]
  },
  {
   "cell_type": "code",
   "execution_count": null,
   "metadata": {},
   "outputs": [],
   "source": [
    "TESoverlay(crystal, datadir+\"G19N-impulse\",\n",
    "           \"CDMSlite1 (G19N): 100 eV per channel\");"
   ]
  },
  {
   "cell_type": "code",
   "execution_count": null,
   "metadata": {},
   "outputs": [],
   "source": [
    "# Several input files useful for testing\n",
    "# (only available on Grace (TAMU HPRC)\n",
    "datadir = \"data/Luke_debugging/\"\n",
    "\n",
    "maxL10k  = datadir+\"10keV-Luke10000-E100eV_51250203_000000.root\"\n",
    "maxL10k1keV = datadir+\"10keV-Luke10000-E1keV_51250128_000000.root\"\n",
    "maxL100k = datadir+\"10keV-Luke100000-E100eV_51250127_000000.root\"\n",
    "maxL300k = datadir+\"10keV-Luke300000-E100eV_51250127_000000.root\"\n",
    "maxL30M  = datadir+\"10keV-Luke30000000-E100eV_51250127_000000.root\"\n",
    "maxLinf  = datadir+\"10keV-Luke-1-E100eV_51250127_000000.root\"\n",
    "\n",
    "maxL10kiZIP7  = datadir+\"10keV-iZIP7-Luke10000-E100eV_51250203_000000.root\"\n",
    "maxL300kiZIP7 = datadir+\"10keV-iZIP7-Luke300000-E100eV_51250203_000000.root\"\n",
    "\n",
    "maxL300k100eVLite = datadir+\"10keV-CDMSlite-Luke300000-E100eV_51250203_0000.root\""
   ]
  },
  {
   "cell_type": "code",
   "execution_count": null,
   "metadata": {},
   "outputs": [],
   "source": [
    "TESoverlay(maxL10k, datadir+\"maxLuke10k\",\n",
    "           \"HV100mm 10 keV @ (0,0,0) maxLukePhonons 10k\")"
   ]
  },
  {
   "cell_type": "code",
   "execution_count": null,
   "metadata": {},
   "outputs": [],
   "source": [
    "TESoverlay(maxL100k,datadir+\"maxLuke100k\",\n",
    "           \"HV100mm 10 keV @ (0,0,0) maxLukePhonons 100k\")"
   ]
  },
  {
   "cell_type": "code",
   "execution_count": null,
   "metadata": {},
   "outputs": [],
   "source": [
    "TESoverlay(maxL300k,datadir+\"maxLuke300k\",\n",
    "           \"HV100mm 10 keV @ (0,0,0) maxLukePhonons 300k\")"
   ]
  },
  {
   "cell_type": "code",
   "execution_count": null,
   "metadata": {},
   "outputs": [],
   "source": [
    "TESoverlay(maxL30M, datadir+\"maxLuke30M\", \n",
    "           \"HV100mm 10 keV @ (0,0,0) maxLukePhonons 30M\")"
   ]
  },
  {
   "cell_type": "code",
   "execution_count": null,
   "metadata": {},
   "outputs": [],
   "source": [
    "TESoverlay(maxLinf, datadir+\"maxLukeInf\", \n",
    "           \"HV100mm 10 keV @ (0,0,0) no phonon limit\")"
   ]
  },
  {
   "cell_type": "code",
   "execution_count": null,
   "metadata": {},
   "outputs": [],
   "source": [
    "TESoverlay(maxL10k1keV, datadir+\"maxL10k1keV\", \n",
    "           \"HV100mm 10 keV @ (0,0,0) maxLuke 10k, Esamp 1keV\")"
   ]
  },
  {
   "cell_type": "code",
   "execution_count": null,
   "metadata": {},
   "outputs": [],
   "source": [
    "TESoverlay(maxL300kiZIP7, datadir+\"maxL300k-iZIP7\", \n",
    "           \"iZIP7 10 keV @ (0,0,0) maxLukePhonons 300k\")"
   ]
  },
  {
   "cell_type": "code",
   "execution_count": null,
   "metadata": {},
   "outputs": [],
   "source": [
    "TESoverlay(maxL10kiZIP7, datadir+\"maxL10k-iZIP7\", \n",
    "           \"iZIP7 10 keV @ (0,0,0) maxLukePhonons 10k\")"
   ]
  },
  {
   "cell_type": "code",
   "execution_count": null,
   "metadata": {},
   "outputs": [],
   "source": [
    "TESoverlay(maxL300k100eVLite, datadir+\"maxL300k-CDMSlite\", \n",
    "           \"CDMSlite1 10 keV @ (0,0,0) maxLukePhonons 300k\")"
   ]
  },
  {
   "cell_type": "code",
   "execution_count": null,
   "metadata": {},
   "outputs": [],
   "source": []
  }
 ],
 "metadata": {
  "kernelspec": {
   "display_name": "SCDMS V05-07",
   "language": "python",
   "name": "scdms_v05-07"
  },
  "language_info": {
   "codemirror_mode": {
    "name": "ipython",
    "version": 3
   },
   "file_extension": ".py",
   "mimetype": "text/x-python",
   "name": "python",
   "nbconvert_exporter": "python",
   "pygments_lexer": "ipython3",
   "version": "3.10.12"
  }
 },
 "nbformat": 4,
 "nbformat_minor": 4
}
