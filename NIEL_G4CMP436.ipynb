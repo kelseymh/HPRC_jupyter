{
 "cells": [
  {
   "cell_type": "code",
   "execution_count": null,
   "id": "eac619f2-b49d-4436-ab29-2b6ea9b32bb1",
   "metadata": {},
   "outputs": [],
   "source": [
    "from imports import *"
   ]
  },
  {
   "cell_type": "code",
   "execution_count": null,
   "id": "8ba36554-afc3-434a-82e1-d1e5bf21422f",
   "metadata": {},
   "outputs": [],
   "source": [
    "def getNIEL(file):\n",
    "    \"\"\"Read tab-separated output from testNRyield.cc into Pandas.\n",
    "       Column headings are on second line, with \"xyz\" names of the\n",
    "       different G4CMPxyzNIEL models.  Energy units are captured\n",
    "       separately from the first line of the file.\"\"\"\n",
    "    nieldata = pd.read_csv(file,skiprows=1,sep='\\t')\n",
    "    units = open(file).readline().split()[-1]\n",
    "    return nieldata, units"
   ]
  },
  {
   "cell_type": "code",
   "execution_count": null,
   "id": "e4316dca-5723-4cd6-b63b-7b8d517c7b1f",
   "metadata": {},
   "outputs": [],
   "source": [
    "datadir=\"data/NIEL-calc/\"\n",
    "names = [ \"develop\", \"G4CMP436\", \"keV-G4CMP436\", \"alpha_G4CMP436\", \"alpha-keV_G4CMP436\" ]\n",
    "data = {}\n",
    "for n in names:\n",
    "    sep = \"-\" if n[:5]==\"alpha\" else \"_\"\n",
    "    file = f\"{datadir}NIEL{sep}{n}.txt\"\n",
    "\n",
    "    tbl,units = getNIEL(file)\n",
    "    data.update({n: {\"NIEL\": tbl, \"Units\":units}})"
   ]
  },
  {
   "cell_type": "code",
   "execution_count": null,
   "id": "4e718648-aa99-4bb9-bd19-87d04c8d74a8",
   "metadata": {},
   "outputs": [],
   "source": [
    "energy = data[\"develop\"][\"NIEL\"][\"Energy\"]\n",
    "lewin = data[\"develop\"][\"NIEL\"][\"LewinSmith\"]\n",
    "plt.plot(energy,lewin,\"-\")"
   ]
  },
  {
   "cell_type": "code",
   "execution_count": null,
   "id": "081dc0fc-d3c3-4ad1-b4ae-ee69c4ee81b9",
   "metadata": {},
   "outputs": [],
   "source": [
    "def overlayFile(name):\n",
    "    \"\"\"Create plot showing all of the NIEL calculations for a given\n",
    "       configuration, to compare.\"\"\"\n",
    "    if name not in data: return\n",
    "        \n",
    "    energy = data[name][\"NIEL\"][\"Energy\"]\n",
    "    units = data[name][\"Units\"]\n",
    "    for niel in data[name][\"NIEL\"]:\n",
    "        if niel == \"Energy\": continue\n",
    "        plt.plot(\"Energy\",niel,\"-\",data=data[name][\"NIEL\"],label=niel)\n",
    "        \n",
    "    plt.title(f\"NIEL models for {name}\")\n",
    "    plt.xlabel(f\"Energy [{units}]\")\n",
    "    plt.ylabel(f\"Ionization Yield [fraction]\")\n",
    "    plt.legend()\n",
    "    plt.savefig(f\"{datadir}{name}_NIEL.png\")"
   ]
  },
  {
   "cell_type": "code",
   "execution_count": null,
   "id": "2bccdf5c-c7aa-4cf6-9c75-1ca9047d52f5",
   "metadata": {},
   "outputs": [],
   "source": [
    "for name in names:\n",
    "    plt.figure(figsize=(8,6),dpi=200)\n",
    "    overlayFile(name)"
   ]
  },
  {
   "cell_type": "code",
   "execution_count": null,
   "id": "06d00e66-0b72-44ce-b587-ebc6ba4c70cd",
   "metadata": {},
   "outputs": [],
   "source": []
  }
 ],
 "metadata": {
  "kernelspec": {
   "display_name": "Python 3 (ipykernel)",
   "language": "python",
   "name": "python3"
  },
  "language_info": {
   "codemirror_mode": {
    "name": "ipython",
    "version": 3
   },
   "file_extension": ".py",
   "mimetype": "text/x-python",
   "name": "python",
   "nbconvert_exporter": "python",
   "pygments_lexer": "ipython3",
   "version": "3.10.12"
  }
 },
 "nbformat": 4,
 "nbformat_minor": 5
}
