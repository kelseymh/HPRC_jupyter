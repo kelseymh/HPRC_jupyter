{
 "cells": [
  {
   "cell_type": "code",
   "execution_count": null,
   "id": "efc74943-8486-43f2-bd80-85d774b0ea3a",
   "metadata": {},
   "outputs": [],
   "source": [
    "from imports import *\n",
    "from scipy import constants\n",
    "%matplotlib inline\n",
    "plt.rcParams['figure.figsize'] = (5.0,3.3)\n",
    "plt.rcParams['figure.autolayout'] = True"
   ]
  },
  {
   "cell_type": "code",
   "execution_count": null,
   "id": "fbe3a890-520c-40b5-a804-257328efd8ec",
   "metadata": {},
   "outputs": [],
   "source": [
    "datadir = \"data/thermalPhonon\"\n",
    "\n",
    "# Low energy phonon spectra\n",
    "temp50mK  = datadir+\"/thermal-0.05K_51250814_000000.root\"\n",
    "temp200mK = datadir+\"/thermal-0.2K_51250814_000000.root\"\n",
    "temp0K    = datadir+\"/thermal-0K_51250814_000000.root\"\n",
    "temp1K    = datadir+\"/thermal-1K_51250814_000000.root\"\n",
    "temp4K    = datadir+\"/thermal-4K_51250814_000000.root\"\n",
    "\n",
    "# 100 ueV phonons 1% sidewall SMAH\n",
    "temp_smah1_0K = datadir+\"/thermal-anh0.01-0K_51250814_000000.root\"\n",
    "temp_smah1_50mK = datadir+\"/thermal-anh0.01-0.05K_51250814_000000.root\"\n",
    "temp_smah1_200mK = datadir+\"/thermal-anh0.01-0.2K_51250814_000000.root\"\n",
    "\n",
    "# 100 ueV phonons 10% sidewall SMAH\n",
    "temp_smah10_0K = datadir+\"/thermal-anh0.1-0K_51250814_000000.root\"\n",
    "temp_smah10_50mK = datadir+\"/thermal-anh0.1-0.05K_51250814_000000.root\"\n",
    "temp_smah10_200mK = datadir+\"/thermal-anh0.1-0.2K_51250814_000000.root\"\n",
    "\n",
    "# 1 keV energy deposits\n",
    "edep0K    = datadir+\"/iZIP7-1keV-0K_51250814_000000.root\"\n",
    "edep50mK  = datadir+\"/iZIP7-1keV-0.05K_51250814_000000.root\"\n",
    "edep200mK = datadir+\"/iZIP7-1keV-0.2K_51250814_000000.root\"\n",
    "\n",
    "# 1 keV ER with 1% sidewall SMAH\n",
    "smah1_0K    = datadir+\"/iZIP7-anh0.01-1keV-0K_51250814_000000.root\"\n",
    "smah1_50mK  = datadir+\"/iZIP7-anh0.01-1keV-0.05K_51250814_000000.root\"\n",
    "smah1_200mK = datadir+\"/iZIP7-anh0.01-1keV-0.2K_51250814_000000.root\"\n",
    "\n",
    "# 1 keV ER with 10% sidewall SMAH (may not work)\n",
    "smah10_0K    = datadir+\"/iZIP7-anh0.1-1keV-0K_51250814_000000.root\"\n",
    "smah10_50mK  = datadir+\"/iZIP7-anh0.1-1keV-0.05K_51250814_000000.root\"\n",
    "smah10_200mK = datadir+\"/iZIP7-anh0.1-1keV-0.2K_51250814_000000.root\""
   ]
  },
  {
   "cell_type": "code",
   "execution_count": null,
   "id": "a2df2bbc-e469-4339-a9a8-22e2c8ef5006",
   "metadata": {},
   "outputs": [],
   "source": [
    "def getHits(files):\n",
    "    \"\"\"Load mczip0 TTree from specified file or files.\"\"\"\n",
    "    if not files: return None\n",
    "        \n",
    "    branches = [\"EventNum\",\"Track\",\"Step\",\"KE\",\"Yield\"]\n",
    "    hits = CDataFrame(\"G4SimDir/mczip0\", files).AsNumpy(branches)\n",
    "    return hits"
   ]
  },
  {
   "cell_type": "code",
   "execution_count": null,
   "id": "474a4525-4908-4426-be77-f6d285eb258e",
   "metadata": {},
   "outputs": [],
   "source": [
    "def getEfficiency(files):\n",
    "    \"\"\"Load g4dmcEvent TTree from specified file or files.\"\"\"\n",
    "    if not files: return None\n",
    "\n",
    "    branches = [\"EventNum\",\"PhononE\"]\n",
    "    eff = CDataFrame(\"G4SimDir/g4dmcEvent\", files).AsNumpy(branches)\n",
    "\n",
    "    # Compute efficiency for 1 keV ER @ 100V = 34.784 keV\n",
    "    Eexpected = (1.+4./2.96)*1e3\n",
    "    eff[\"PhEff\"] = np.sum(eff[\"PhononE\"],axis=1)/Eexpected\n",
    "    return eff"
   ]
  },
  {
   "cell_type": "code",
   "execution_count": null,
   "id": "bf08f132-a8a1-45e8-8226-d18a23e82aac",
   "metadata": {},
   "outputs": [],
   "source": [
    "def getTime(files):\n",
    "    \"\"\"Average CPU time per event.\"\"\"\n",
    "    if not files: return None\n",
    "\n",
    "    branches = [\"Events\",\"Elapsed\",\"UserCPU\",\"SystemCPU\"]\n",
    "    times = CDataFrame(\"G4SettingsInfoDir/runtime\", files).AsNumpy(branches)\n",
    "    return times"
   ]
  },
  {
   "cell_type": "code",
   "execution_count": null,
   "id": "c75d15c7-c4d0-4ea5-ba04-980a21ad59dd",
   "metadata": {},
   "outputs": [],
   "source": [
    "def boltzmann(energy,temperature):\n",
    "    \"\"\"Returns normalized Maxwell-Boltzmann for a given temperature.\n",
    "       energy (can be np.array) in units of eV, temperature in kelvins.\"\"\"\n",
    "    if (temperature <= 0.): return energy*0.\n",
    "\n",
    "    evToJ = constants.physical_constants[\"electron volt\"][0]\n",
    "    \n",
    "    kT = constants.k * temperature/evToJ;\n",
    "    coeff = 2. * np.sqrt(energy/(constants.pi*kT))\n",
    "    return coeff*np.exp(-energy/kT)"
   ]
  },
  {
   "cell_type": "code",
   "execution_count": null,
   "id": "5dbe1b13-c043-4660-b348-9c26717ddc4c",
   "metadata": {},
   "outputs": [],
   "source": [
    "def drawBoltzmann(temperature, Eunits=1e6):\n",
    "    \"\"\"Add Maxwell-Boltzmann curve to current plot.\"\"\"\n",
    "    thePlot = plt.gca()\n",
    "    \n",
    "    # Get axis ranges and draw MB shape\n",
    "    npt = 100\n",
    "    emin,emax = thePlot.get_xlim()\n",
    "    if (emin<0.): emin = 0.\n",
    "    dE = (emax-emin)/npt\n",
    "    Edata = np.arange(emin,emax,dE)\n",
    "    \n",
    "    Ymax = thePlot.get_ylim()[1]\n",
    "    MBdata = Ymax*boltzmann(Edata/Eunits, temperature)\n",
    "    thePlot.plot(Edata,MBdata)\n",
    "\n",
    "def hitsAndKT(file,temperature,title=\"Phonons\",maxE=None,logy='linear'):\n",
    "    \"\"\"Plot absorbed phonon data overlaid with Maxwell-Boltzmann.\"\"\"\n",
    "\n",
    "    ueV = 1e6      # Convert eV to microeV\n",
    "\n",
    "    hits = getHits(file)\n",
    "\n",
    "    # Set plot range consistent with dataset\n",
    "    if not maxE: maxE = min(ueV*hits[\"Yield\"].max(),300.)\n",
    "\n",
    "    # Fill histogram first\n",
    "    plt.hist(hits[\"Yield\"]*ueV,bins=100,range=(0.,maxE))\n",
    "    plt.gca().set_yscale(logy)\n",
    "    plt.title(f\"{title} with thermal killing at {temperature} K\")\n",
    "    plt.xlabel(\"Phonon energy [μeV]\")\n",
    "\n",
    "    drawBoltzmann(temperature, ueV)\n",
    "    \n",
    "    # Save the figure\n",
    "    name = f\"{datadir}/thermal{title}-{temperature}K.png\"\n",
    "    plt.savefig(name)\n",
    "\n",
    "    return plt\n",
    "\n",
    "def hitsMultiKT(files,temperatures,title=\"Phonons\",maxE=None,logy='linear'):\n",
    "    \"\"\"Plot multiple sets of absorbed phonon data, with legend.\"\"\"\n",
    "\n",
    "    ueV = 1e6      # Convert eV to microeV\n",
    "\n",
    "    for i in range(len(files)):\n",
    "        hits = getHits(files[i])\n",
    "        time = getTime(files[i])\n",
    "        cpueff = time[\"UserCPU\"]/time[\"Events\"]\n",
    "        label = f\"{temperatures[i]} K  : {cpueff[0]:.4} s/event\"\n",
    "        \n",
    "        if not maxE: maxE = min(ueV*hits[\"Yield\"].max(),300.)\n",
    "        plt.hist(hits[\"Yield\"]*ueV,bins=100,range=(0.,maxE),alpha=0.4,label=label)\n",
    "        \n",
    "    plt.gca().set_yscale(logy)\n",
    "    plt.title(f\"{title} with thermal killing\")\n",
    "    plt.xlabel(\"Phonon energy [μeV]\")\n",
    "    plt.legend()\n",
    "    \n",
    "    # Save the figure\n",
    "    name = f\"{datadir}/thermal{title}-multiT.png\"\n",
    "    plt.savefig(name)\n",
    "\n",
    "    return plt\n",
    "\n",
    "def multiHitsAndKT(files,labels,temperature,title=\"Phonons\",maxE=None,logy='linear'):\n",
    "    \"\"\"Plot multiple sets of absorbed phonon data, with legend.\"\"\"\n",
    "\n",
    "    ueV = 1e6      # Convert eV to microeV\n",
    "\n",
    "    for i in range(len(files)):\n",
    "        hits = getHits(files[i])\n",
    "        time = getTime(files[i])\n",
    "        cpueff = time[\"UserCPU\"]/time[\"Events\"]\n",
    "        label = labels[i]+f\"  : {cpueff[0]:.4} s/event\"\n",
    "        \n",
    "        if not maxE: maxE = min(ueV*hits[\"Yield\"].max(),300.)\n",
    "        plt.hist(hits[\"Yield\"]*ueV,bins=100,range=(0.,maxE),alpha=0.4,label=label)\n",
    "        \n",
    "    plt.gca().set_yscale(logy)\n",
    "    plt.title(f\"{title} with thermal killing at {temperature} K\")\n",
    "    plt.xlabel(\"Phonon energy [μeV]\")\n",
    "    plt.legend()\n",
    "\n",
    "    # Add Maxwell-Boltzmann distribution after legend created\n",
    "    drawBoltzmann(temperature, ueV)\n",
    "    \n",
    "    # Save the figure\n",
    "    name = f\"{datadir}/thermal{title}-{temperature}T.png\"\n",
    "    plt.savefig(name)\n",
    "\n",
    "    return plt\n"
   ]
  },
  {
   "cell_type": "code",
   "execution_count": null,
   "id": "b723a4c4-4369-4804-b459-9c90c8a874b3",
   "metadata": {},
   "outputs": [],
   "source": [
    "hitsAndKT(temp0K, 0.)"
   ]
  },
  {
   "cell_type": "code",
   "execution_count": null,
   "id": "46c67646-b7d2-47e0-be58-cd794bc8b07b",
   "metadata": {},
   "outputs": [],
   "source": [
    "hitsAndKT(temp50mK, 0.05)"
   ]
  },
  {
   "cell_type": "code",
   "execution_count": null,
   "id": "1ca121e8-3447-4311-8864-cbf2ca436b32",
   "metadata": {},
   "outputs": [],
   "source": [
    "hitsAndKT(temp50mK, 0.05, \"UltraLow-Phonons\",10)"
   ]
  },
  {
   "cell_type": "code",
   "execution_count": null,
   "id": "e0dbb2b2-c1c3-47a8-891f-de74c0e15638",
   "metadata": {},
   "outputs": [],
   "source": [
    "hitsAndKT(temp200mK, 0.2)"
   ]
  },
  {
   "cell_type": "code",
   "execution_count": null,
   "id": "65808327-d88b-40c7-aad2-cc3f942cf8d3",
   "metadata": {},
   "outputs": [],
   "source": [
    "hitsAndKT(temp1K, 1)"
   ]
  },
  {
   "cell_type": "code",
   "execution_count": null,
   "id": "0d40b981-2677-4124-a6a8-11aae795babc",
   "metadata": {},
   "outputs": [],
   "source": [
    "hitsAndKT(temp4K, 4)"
   ]
  },
  {
   "cell_type": "code",
   "execution_count": null,
   "id": "317d6ef6-6813-401d-937b-dee23c69d6b5",
   "metadata": {},
   "outputs": [],
   "source": [
    "hitsAndKT(temp_smah1_0K, 0., \"1ueV-SMAH0.01\", logy='log')"
   ]
  },
  {
   "cell_type": "code",
   "execution_count": null,
   "id": "464bc406-262c-4309-bbc9-3cc7f583190d",
   "metadata": {},
   "outputs": [],
   "source": [
    "hitsAndKT(temp_smah1_50mK, 0.05, \"1ueV-SMAH0.01\", logy='log')"
   ]
  },
  {
   "cell_type": "code",
   "execution_count": null,
   "id": "6c6a4463-ccde-419a-bc1e-bab8ae316d8e",
   "metadata": {},
   "outputs": [],
   "source": [
    "hitsAndKT(temp_smah1_200mK, 0.2, \"1ueV-SMAH0.01\", logy='log')"
   ]
  },
  {
   "cell_type": "code",
   "execution_count": null,
   "id": "7efd296f-5e10-4254-a343-ac34f97aaa13",
   "metadata": {},
   "outputs": [],
   "source": [
    "hitsAndKT(temp_smah10_0K, 0., \"1ueV-SMAH0.1\", logy='log')"
   ]
  },
  {
   "cell_type": "code",
   "execution_count": null,
   "id": "8d3fd82c-6ca9-4242-8782-37bf863d80b4",
   "metadata": {},
   "outputs": [],
   "source": [
    "hitsAndKT(temp_smah10_50mK, 0.05, \"1ueV-SMAH0.1\", logy='log')"
   ]
  },
  {
   "cell_type": "code",
   "execution_count": null,
   "id": "b0e7cc8f-67c6-4edb-9215-b85c4fd455b0",
   "metadata": {},
   "outputs": [],
   "source": [
    "hitsAndKT(temp_smah10_200mK, 0.2, \"1ueV-SMAH0.1\", logy='log')"
   ]
  },
  {
   "cell_type": "code",
   "execution_count": null,
   "id": "3bd05f19-86a5-4668-a678-9b0db7cc229d",
   "metadata": {},
   "outputs": [],
   "source": [
    "cpu0K = getTime(temp_smah10_0K)\n",
    "cpu50mK = getTime(temp_smah10_50mK)\n",
    "time0K = cpu0K[\"UserCPU\"]/cpu0K[\"Events\"]\n",
    "time50mK = cpu50mK[\"UserCPU\"]/cpu50mK[\"Events\"]\n",
    "print(f\"0 K:   {time0K[0]}\")\n",
    "print(f\"50 mK: {time50mK[0]}\")"
   ]
  },
  {
   "cell_type": "code",
   "execution_count": null,
   "id": "7d6e9de7-acea-4650-bb62-815bed11f09a",
   "metadata": {},
   "outputs": [],
   "source": [
    "smahset = (temp_smah10_0K,temp_smah10_50mK) ###,temp_smah10_200mK)\n",
    "temps = (0.,0.05) ###,0.2)\n",
    "hitsMultiKT(smahset, temps, \"SMAH0.1\", logy='log')"
   ]
  },
  {
   "cell_type": "code",
   "execution_count": null,
   "id": "eb6f227a-ea05-402e-a91f-1a0ef653401f",
   "metadata": {},
   "outputs": [],
   "source": [
    "eff0K    = getEfficiency(edep0K)\n",
    "eff50mK  = getEfficiency(edep50mK)\n",
    "eff200mK = getEfficiency(edep200mK)"
   ]
  },
  {
   "cell_type": "code",
   "execution_count": null,
   "id": "18f5db3b-f0ba-4174-a33a-7443ee9c6878",
   "metadata": {},
   "outputs": [],
   "source": [
    "plt.hist(eff0K[\"PhEff\"],bins=20,range=(0.85,1.05),alpha=0.4,label=\"0 K\")\n",
    "plt.hist(eff50mK[\"PhEff\"],bins=20,range=(0.85,1.05),alpha=0.4,label=\"50 mK\")\n",
    "###plt.hist(eff200mK[\"PhEff\"],bins=20,range=(0.85,1.05),alpha=0.4,label=\"200 mK\")\n",
    "plt.title(\"1 keV ER in iZIP7 with thermal killing\")\n",
    "plt.xlabel(\"Collection Efficiency\")\n",
    "plt.legend()\n",
    "plt.savefig(datadir+\"/EfficiencyVsT.png\")"
   ]
  },
  {
   "cell_type": "code",
   "execution_count": null,
   "id": "423dc9eb-96da-4b65-bfcf-d85e245ffd33",
   "metadata": {},
   "outputs": [],
   "source": [
    "hitsAndKT(edep0K,0,\"1keV\")"
   ]
  },
  {
   "cell_type": "code",
   "execution_count": null,
   "id": "8a33d8d2-00a3-47ce-ace7-a6c1b8fe21c9",
   "metadata": {},
   "outputs": [],
   "source": [
    "hitsAndKT(edep50mK,0.05,\"1keV\")"
   ]
  },
  {
   "cell_type": "code",
   "execution_count": null,
   "id": "11b71025-acf3-456c-98f6-89e388410d3b",
   "metadata": {},
   "outputs": [],
   "source": [
    "hitsAndKT(edep200mK,0.2,\"1keV\")"
   ]
  },
  {
   "cell_type": "code",
   "execution_count": null,
   "id": "1b68bda2-14db-43e7-8938-bc731c8f3327",
   "metadata": {},
   "outputs": [],
   "source": [
    "hitsMultiKT((edep0K,edep50mK,edep200mK),(\"0 K\",\"50 mK\",\"200 mK\"),\"1keV\")"
   ]
  },
  {
   "cell_type": "code",
   "execution_count": null,
   "id": "f44e8921-3540-44e2-a650-6b2bfd818079",
   "metadata": {},
   "outputs": [],
   "source": [
    "eff0K    = getEfficiency(smah1_0K)\n",
    "eff50mK  = getEfficiency(smah1_50mK)\n",
    "eff200mK = getEfficiency(smah1_200mK)"
   ]
  },
  {
   "cell_type": "code",
   "execution_count": null,
   "id": "d12ff309-4dc2-4277-8828-18b90ab16709",
   "metadata": {},
   "outputs": [],
   "source": [
    "plt.hist(eff0K[\"PhEff\"],bins=20,range=(0.85,1.05),alpha=0.4,label=\"0 K\")\n",
    "plt.hist(eff50mK[\"PhEff\"],bins=20,range=(0.85,1.05),alpha=0.4,label=\"50 mK\")\n",
    "###plt.hist(eff200mK[\"PhEff\"],bins=20,range=(0.85,1.05),alpha=0.4,label=\"200 mK\")\n",
    "plt.title(\"1 keV ER in iZIP7 with 1% SMAH, thermal killing\")\n",
    "plt.xlabel(\"Collection Efficiency\")\n",
    "plt.legend()\n",
    "plt.savefig(datadir+\"/Eff-SMAH0.01_VsT.png\")"
   ]
  },
  {
   "cell_type": "code",
   "execution_count": null,
   "id": "e6bb0913-2198-4fee-9a21-6997aa986dfa",
   "metadata": {},
   "outputs": [],
   "source": [
    "hitsAndKT(smah1_50mK,0.05,\"1keV-SMAH0.01\")"
   ]
  },
  {
   "cell_type": "code",
   "execution_count": null,
   "id": "d50f68af-eb38-4481-84e1-c8f53a213fe1",
   "metadata": {},
   "outputs": [],
   "source": [
    "hitsMultiKT((smah1_0K,smah1_50mK,smah1_200mK),(\"0 K\",\"50 mK\",\"200 mK\"),\"1keV-SMAH0.01\")"
   ]
  },
  {
   "cell_type": "code",
   "execution_count": null,
   "id": "b3ebc88b-633a-421a-859d-732ae20b838e",
   "metadata": {},
   "outputs": [],
   "source": []
  }
 ],
 "metadata": {
  "kernelspec": {
   "display_name": "Python 3 (ipykernel)",
   "language": "python",
   "name": "python3"
  },
  "language_info": {
   "codemirror_mode": {
    "name": "ipython",
    "version": 3
   },
   "file_extension": ".py",
   "mimetype": "text/x-python",
   "name": "python",
   "nbconvert_exporter": "python",
   "pygments_lexer": "ipython3",
   "version": "3.10.12"
  }
 },
 "nbformat": 4,
 "nbformat_minor": 5
}
