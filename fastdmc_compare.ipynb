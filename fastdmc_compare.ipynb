{
 "cells": [
  {
   "cell_type": "code",
   "execution_count": null,
   "metadata": {},
   "outputs": [],
   "source": [
    "from imports import *\n",
    "import traces_rdf\n",
    "import ChannelShape\n",
    "%matplotlib inline\n",
    "\n",
    "supersim = os.environ[\"CDMS_SUPERSIM\"]\n",
    "# Pull in Warren's detector-channel drawing utility from SuperSim\n",
    "sys.path.append(os.path.join(supersim,\"CDMSscripts\",\"validation\"))\n",
    "import detectorLayout"
   ]
  },
  {
   "cell_type": "code",
   "execution_count": null,
   "metadata": {},
   "outputs": [],
   "source": [
    "datadir='data/FastDMC_Compare'\n",
    "source=f'{datadir}/Ge71-iZIP5_00240320_0000.root'\n",
    "fastdmc=f'{datadir}/Ge71-FastDMC_00240320_0000.root'\n",
    "fulldmc=f'{datadir}/Ge71-FullDMC_51240320_*.root'     # Does this work with RDataFrame?"
   ]
  },
  {
   "cell_type": "code",
   "execution_count": null,
   "metadata": {},
   "outputs": [],
   "source": [
    "channels = detectorLayout.loadGeometry(source)"
   ]
  },
  {
   "cell_type": "code",
   "execution_count": null,
   "metadata": {},
   "outputs": [],
   "source": [
    "# Data and plots of initial decay products\n",
    "branches = [\"EventNum\",\"TrkStep\",\"Parent\",\"KE\",\"X1\",\"Y1\",\"Z1\",\"Edep\",\"PName\"]\n",
    "decays = ROOT.RDataFrame(f\"G4SimDir/mczip0\", source, branches)\\\n",
    "    .Filter(\"Parent==1 & int(TrkStep)%100000==1\").AsNumpy(branches)\n",
    "traces_rdf.convertRDFBranches(decays)\n",
    "\n",
    "hits = ROOT.RDataFrame(f\"G4SimDir/mczip0\", source, branches).AsNumpy(branches)\n",
    "traces_rdf.convertRDFBranches(hits)"
   ]
  },
  {
   "cell_type": "code",
   "execution_count": null,
   "metadata": {},
   "outputs": [],
   "source": [
    "gammaKE  = decays['KE'][decays['PName']==\"gamma\"]/1e3\n",
    "elecKE   = decays['KE'][decays['PName']==\"e-\"]/1e3\n",
    "recoilKE = decays['KE'][decays['PName']==\"Ga71\"]/1e3\n",
    "particles = ['gamma','e-','Ga71 NR']"
   ]
  },
  {
   "cell_type": "code",
   "execution_count": null,
   "metadata": {},
   "outputs": [],
   "source": [
    "fig,axes = plt.subplots()\n",
    "axes.hist([gammaKE,elecKE],bins=100,histtype='step',fill=False,log=True)\n",
    "axes.legend(particles,loc=\"upper right\",ncol=1)\n",
    "axes.set_xlabel(\"Secondary energy [keV]\")\n",
    "axes.set_title(\"Inclusive secondary energies from Ge-71\")\n",
    "fig.savefig(\"Ge71-decay_KE.png\")"
   ]
  },
  {
   "cell_type": "code",
   "execution_count": null,
   "metadata": {},
   "outputs": [],
   "source": [
    "# Total energy produced in Ge-71 decays\n",
    "\n",
    "# https://stackoverflow.com/questions/36643216/summing-data-from-array-based-on-other-array-in-numpy\n",
    "eventID,index,nsec = np.unique(decays[\"EventNum\"],return_counts=True,return_inverse=True)\n",
    "sumEsec = np.bincount(index,decays[\"KE\"].ravel())              # Array of sums in same order as eventID\n",
    "eventEsec = {i:sumEsec[itr] for itr,i in enumerate(eventID)}   # Dictionary to use eventID for lookup"
   ]
  },
  {
   "cell_type": "code",
   "execution_count": null,
   "metadata": {},
   "outputs": [],
   "source": [
    "fig,axes = plt.subplots()\n",
    "axes.hist(sumEsec/1e3,bins=100,histtype='step',fill=False,log=True)\n",
    "axes.set_xlabel(\"Decay energy [keV]\")\n",
    "axes.set_title(\"Ge-71: Total Secondary Energy\")\n",
    "fig.savefig(\"Ge71-decay_Etot.png\")"
   ]
  },
  {
   "cell_type": "code",
   "execution_count": null,
   "metadata": {},
   "outputs": [],
   "source": [
    "# Total energy deposited in detector from Ge-71 decays\n",
    "\n",
    "# https://stackoverflow.com/questions/36643216/summing-data-from-array-based-on-other-array-in-numpy\n",
    "eventID,index,nhit = np.unique(decays[\"EventNum\"],return_counts=True,return_inverse=True)\n",
    "sumEdep = np.bincount(index,decays[\"Edep\"].ravel())            # Array of sums in same order as eventID\n",
    "eventEdep = {i:sumEdep[itr] for itr,i in enumerate(eventID)}   # Dictionary to use eventID for lookup\n",
    "eventNhit = {i:nhit[itr] for itr,i in enumerate(eventID)}   # Dictionary to use eventID for lookup"
   ]
  },
  {
   "cell_type": "code",
   "execution_count": null,
   "metadata": {},
   "outputs": [],
   "source": [
    "fig,axes = plt.subplots()\n",
    "axes.hist(sumEdep/1e3,bins=100,histtype='step',fill=False,log=True)\n",
    "axes.set_xlabel(\"Energy deposit [keV]\")\n",
    "axes.set_title(\"Ge-71: Total Deposited Energy\")\n",
    "fig.savefig(\"Ge71-decay_Edep.png\")"
   ]
  },
  {
   "cell_type": "code",
   "execution_count": null,
   "metadata": {},
   "outputs": [],
   "source": [
    "# Number of hits per event (couted above in mczip0, should match mcevent.HitsPerEvent)\n",
    "\n",
    "fig,axes = plt.subplots()\n",
    "axes.hist(eventNhit.values(),bins=100,histtype='step',fill=False,log=False)\n",
    "axes.set_xlabel(\"Hits/Event\")\n",
    "axes.set_title(\"Ge-71: Energy Deposits\")\n",
    "fig.savefig(\"Ge71-decay_Nhit.png\")"
   ]
  },
  {
   "cell_type": "code",
   "execution_count": null,
   "metadata": {},
   "outputs": [],
   "source": [
    "# Total energy collection from FastDMC\n",
    "\n",
    "branches = [\"EventNum\",\"PhononE\",\"ChargeQ\"]\n",
    "fasttot = ROOT.RDataFrame(f\"G4SimDir/g4dmcEvent\", fastdmc, branches).AsNumpy(branches)\n",
    "traces_rdf.convertRDFBranches(fasttot)\n",
    "\n",
    "fastPhononE = [sum(fasttot[\"PhononE\"][i]) for i in range(0,len(fasttot[\"PhononE\"]))]"
   ]
  },
  {
   "cell_type": "code",
   "execution_count": null,
   "metadata": {},
   "outputs": [],
   "source": [
    "fig,axes = plt.subplots()\n",
    "axes.hist(fastPhononE/1e3,bins=100,histtype='step',fill=False,log=True)\n",
    "axes.set_xlabel(\"Phonon Energy [keV]\")\n",
    "axes.set_title(\"Ge-71: FastDMC Collected Phonon Energy\")\n",
    "fig.savefig(\"Ge71-decay_fastPhononE.png\")"
   ]
  },
  {
   "cell_type": "code",
   "execution_count": null,
   "metadata": {},
   "outputs": [],
   "source": [
    "# Total energy collection from full GDMC\n",
    "\n",
    "branches = [\"EventNum\",\"PhononE\",\"ChargeQ\"]\n",
    "dmctot = ROOT.RDataFrame(f\"G4SimDir/g4dmcEvent\", ffulldmc, branches).AsNumpy(branches)\n",
    "traces_rdf.convertRDFBranches(dmctot)\n",
    "\n",
    "dmcPhononE = [sum(dmctot[\"PhononE\"][i]) for i in range(0,len(dmctot[\"EventNum\"]))]"
   ]
  },
  {
   "cell_type": "code",
   "execution_count": null,
   "metadata": {},
   "outputs": [],
   "source": [
    "fig,axes = plt.subplots()\n",
    "axes.hist(dmcPhononE/1e3,bins=100,histtype='step',fill=False,log=True)\n",
    "axes.set_xlabel(\"Phonon Energy [keV]\")\n",
    "axes.set_title(\"Ge-71: Full G4DMC Collected Phonon Energy\")\n",
    "fig.savefig(\"Ge71-decay_dmcPhononE.png\")"
   ]
  },
  {
   "cell_type": "code",
   "execution_count": null,
   "metadata": {},
   "outputs": [],
   "source": []
  }
 ],
 "metadata": {
  "kernelspec": {
   "display_name": "Python 3",
   "language": "python",
   "name": "python3"
  },
  "language_info": {
   "codemirror_mode": {
    "name": "ipython",
    "version": 3
   },
   "file_extension": ".py",
   "mimetype": "text/x-python",
   "name": "python",
   "nbconvert_exporter": "python",
   "pygments_lexer": "ipython3",
   "version": "3.6.6"
  }
 },
 "nbformat": 4,
 "nbformat_minor": 4
}
