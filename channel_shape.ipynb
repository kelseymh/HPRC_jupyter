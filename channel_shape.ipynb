{
 "cells": [
  {
   "cell_type": "code",
   "execution_count": null,
   "metadata": {},
   "outputs": [],
   "source": [
    "import matplotlib\n",
    "import matplotlib.pyplot as plt\n",
    "%matplotlib inline\n",
    "import numpy as np\n",
    "\n",
    "import os,sys\n",
    "\n",
    "# NOTE: append only needed until SuperSim V15-00-00 is in Offline Release container\n",
    "sys.path.append(os.path.join(os.environ[\"HOME\"],\"software\",\"supersim\",\"CDMSpython\"))\n",
    "import dmc"
   ]
  },
  {
   "cell_type": "code",
   "execution_count": null,
   "metadata": {},
   "outputs": [],
   "source": [
    "def detectorLayout(detname):\n",
    "    \"\"\"Draw TES channels layout for specified detector, top side only.\"\"\"\n",
    "    plt.figure(figsize=(5,5))\n",
    "    det = dmc.DetectorShape().Load(f\"data/GeometryOnly/{detname}_geomOnly.root\")\n",
    "    det.TES.Draw(zside=+1, labels=True,frame=True)\n",
    "    plt.title(f\"{detname} TES channels +Z face\")\n",
    "    plt.savefig(f\"{detname}_ChannelShape.png\")"
   ]
  },
  {
   "cell_type": "code",
   "execution_count": null,
   "metadata": {},
   "outputs": [],
   "source": [
    "myNFC = dmc.DetectorShape().Load(f\"data/GeometryOnly/NF-C_geomOnly.root\")\n",
    "print(myNFC)"
   ]
  },
  {
   "cell_type": "code",
   "execution_count": null,
   "metadata": {},
   "outputs": [],
   "source": [
    "myNFC"
   ]
  },
  {
   "cell_type": "code",
   "execution_count": null,
   "metadata": {},
   "outputs": [],
   "source": [
    "myNFC.Draw(labels=True,frame=True)"
   ]
  },
  {
   "cell_type": "code",
   "execution_count": null,
   "metadata": {},
   "outputs": [],
   "source": [
    "myDet = dmc.DetectorShape().Load(f\"data/GeometryOnly/NEXUS-C_geomOnly.root\")\n",
    "print(myDet)"
   ]
  },
  {
   "cell_type": "code",
   "execution_count": null,
   "metadata": {},
   "outputs": [],
   "source": [
    "ch2 = myDet[\"Ch2\"]\n",
    "print(ch2)"
   ]
  },
  {
   "cell_type": "code",
   "execution_count": null,
   "metadata": {},
   "outputs": [],
   "source": [
    "plt.figure(figsize=(5,5))\n",
    "ch2.Draw(plt.gca(),frame=True,step=0.5)\n",
    "plt.plot([4.,10.],[ch2.phiminYCcut,ch2.phiminYCcut],c='Purple')\n",
    "plt.plot([-4.,-10.],[ch2.phimaxYCcut,ch2.phimaxYCcut],c='Purple')"
   ]
  },
  {
   "cell_type": "code",
   "execution_count": null,
   "metadata": {},
   "outputs": [],
   "source": [
    "ch3 = myDet[\"Ch3\"]\n",
    "\n",
    "plt.figure(figsize=(5,5))\n",
    "ch3.Draw(plt.gca(),frame=True)\n",
    "plt.plot([-4.,-10.],[ch3.phiminYCcut,ch3.phiminYCcut],c='Purple')\n",
    "plt.plot([4.,10.],[ch3.phimaxYCcut,ch3.phimaxYCcut],c='Purple')"
   ]
  },
  {
   "cell_type": "code",
   "execution_count": null,
   "metadata": {},
   "outputs": [],
   "source": [
    "for det in [ \"iZIP5\", \"iZIP7\", \"HV100mm\", \"CDMSlite1\" ]:\n",
    "    detectorLayout(det)"
   ]
  },
  {
   "cell_type": "code",
   "execution_count": null,
   "metadata": {},
   "outputs": [],
   "source": [
    "for det in [ \"NF-A\", \"NF-B\", \"NF-C\", \"NF-D\", \"NF-E\", \"NF-F\", \"NF-G\", \"NF-H\" ]:\n",
    "    detectorLayout(det)"
   ]
  },
  {
   "cell_type": "code",
   "execution_count": null,
   "metadata": {},
   "outputs": [],
   "source": [
    "for det in [ \"NEXUS-A\", \"NEXUS-B\", \"NEXUS-C\" ]:\n",
    "    detectorLayout(det)"
   ]
  },
  {
   "cell_type": "code",
   "execution_count": null,
   "metadata": {},
   "outputs": [],
   "source": []
  }
 ],
 "metadata": {
  "kernelspec": {
   "display_name": "Python 3 (ipykernel)",
   "language": "python",
   "name": "python3"
  },
  "language_info": {
   "codemirror_mode": {
    "name": "ipython",
    "version": 3
   },
   "file_extension": ".py",
   "mimetype": "text/x-python",
   "name": "python",
   "nbconvert_exporter": "python",
   "pygments_lexer": "ipython3",
   "version": "3.10.12"
  }
 },
 "nbformat": 4,
 "nbformat_minor": 4
}
