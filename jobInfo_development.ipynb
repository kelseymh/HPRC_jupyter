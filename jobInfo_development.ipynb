{
 "cells": [
  {
   "cell_type": "code",
   "execution_count": 1,
   "id": "cd396589-c586-46b0-90f1-a715194724eb",
   "metadata": {},
   "outputs": [
    {
     "name": "stdout",
     "output_type": "stream",
     "text": [
      "Welcome to JupyROOT 6.28/10\n"
     ]
    }
   ],
   "source": [
    "from imports import *\n",
    "from cats.cdataframe import CDataFrame\n",
    "from jobInfo import jobInfo"
   ]
  },
  {
   "cell_type": "code",
   "execution_count": 2,
   "id": "de1aebda-6d8f-40c1-a78d-cf442cdf5adc",
   "metadata": {},
   "outputs": [],
   "source": [
    "file = \"CDMSlite_10keV.root\"\n",
    "varray = CDataFrame(\"G4SettingsInfoDir/Versions\", file).AsNumpy()"
   ]
  },
  {
   "cell_type": "code",
   "execution_count": 3,
   "id": "886cd915-6a0b-4418-97dc-feb467a23273",
   "metadata": {},
   "outputs": [
    {
     "name": "stdout",
     "output_type": "stream",
     "text": [
      "jobInfo._expand ['CDMSlite_10keV.root', 'CDMSlite_10keV.root', 'CDMSlite_10keV.root']\n",
      "  after expansion:  ['CDMSlite_10keV.root', 'CDMSlite_10keV.root', 'CDMSlite_10keV.root']\n",
      "  unique names:  ['CDMSlite_10keV.root']\n"
     ]
    }
   ],
   "source": [
    "dmcinfo = jobInfo([file,file,file],verbose=True)"
   ]
  },
  {
   "cell_type": "code",
   "execution_count": 4,
   "id": "7ddb7e93-1536-44c7-9f65-b9d25a37e69a",
   "metadata": {},
   "outputs": [
    {
     "name": "stdout",
     "output_type": "stream",
     "text": [
      "jobInfo.macro (1 files)\n",
      "jobInfo._getMacro CDMSlite_10keV.root\n",
      "  macro has 43 lines\n",
      "/control/alias NAME V09-13-00+G4CMP380\n",
      "/control/alias FIELD U\n",
      "/control/alias NEVENT 100\n",
      "/CDMS/Physics/DMC\n",
      "/CDMS/Lab NoLab\n",
      "/CDMS/Detector zip\n",
      "/CDMS/Zip/MakeHousing\n",
      "/CDMS/Zip/DetectorConfig CDMSlite1\n",
      "/CDMS/Zip/TESsubgapAbsorption 0.5\n",
      "/CDMS/Zip/PhononAbsorption 0.37\n",
      "/control/strdoif U == U /CDMS/Zip/EMField/VoltageOnly true -1\n",
      "/CDMS/Zip/EMField/VoltageOnly true -1\n",
      "/control/strdoif U == E /CDMS/Zip/EMField/VoltageOnly false -1\n",
      "/CDMS/Source contam\n",
      "/CDMS/Contaminant/bulk\n",
      "/CDMS/Contaminant/Volume Zip\n",
      "/CDMS/Contaminant/Generator dmcgun\n",
      "/CDMS/Contaminant/energy 10 keV\n",
      "/CDMS/Contaminant/partition\n",
      "/CDMS/Physics/ApplyProductionCuts true\n",
      "/CDMS/Physics/ElectronCut 1 mm\n",
      "/CDMS/Physics/PositronCut 1 mm\n",
      "/CDMS/Physics/GammaCut 1 mm\n",
      "/CDMS/Physics/HadronCut 1e-9 mm\n",
      "/g4cmp/samplingEnergy 100 eV\n",
      "/g4cmp/combiningStepLength 2 mm\n",
      "/CDMS/updateGeom\n",
      "/run/reinitializeGeometry\n",
      "/run/geometryModified\n",
      "/CDMS/TESSim/Enable\n",
      "/CDMS/TESSim/PulseFitter ODE\n",
      "/CDMS/FETSim/Enable\n",
      "/CDMS/FETSim/PulseFitter ODE\n",
      "/CDMS/writeFilePrefix V09-13-00+G4CMP380\n",
      "/CDMS/writeData false\n",
      "/CDMS/writeTrees true\n",
      "/CDMS/writeFilePrefix Bulk-10kev-U-V09-13-00+G4CMP380\n",
      "/control/doif 100 >= 20 /run/numberOfThreads 20\n",
      "/run/numberOfThreads 20\n",
      "/control/doif 100 < 20 /run/numberOfThreads 100\n",
      "/run/printProgress 1\n",
      "/run/autoSeed\n",
      "/run/beamOn 100\n"
     ]
    }
   ],
   "source": [
    "print(dmcinfo.macro())"
   ]
  },
  {
   "cell_type": "code",
   "execution_count": 5,
   "id": "09e892db-e2ed-4b52-af95-13da42318a2c",
   "metadata": {},
   "outputs": [
    {
     "name": "stdout",
     "output_type": "stream",
     "text": [
      "jobInfo.versions (1 files)\n",
      "  Versions has 10 packages\n",
      "{'CVODE': '5.1.0', 'EPotFiles': 'epotfiles-V00-00-06-0-gf513e20', 'G4CMP': 'G4CMP-373-1-g66ba66f', 'Geant4': 'geant4-10-06-patch-02 [MT]', 'ROOT': '6.18/02', 'RadSrc': '1.6', 'SimProdMacros': 'V01-06-00-1-g553fe52', 'SimWorkFlowTools': 'v5.5.0-0-gf2d9761', 'SuperSim': 'supersim-V09-13-00', 'wimp_sim': 'wimpsim-V02-00-02'}\n"
     ]
    }
   ],
   "source": [
    "print(dmcinfo.versions())"
   ]
  },
  {
   "cell_type": "code",
   "execution_count": 6,
   "id": "f09a1edd-012d-4bf1-bbf4-e3d5e210d9ac",
   "metadata": {},
   "outputs": [
    {
     "name": "stdout",
     "output_type": "stream",
     "text": [
      "jobInfo.events (1 files)\n",
      "jobInfo._fileEvents CDMSlite_10keV.root\n",
      "[ 0.  1.  2.  3.  4.  5.  6.  7.  8.  9. 10. 11. 12. 13. 14. 15. 16. 17.\n",
      " 18. 19. 20. 21. 22. 23. 24. 25. 26. 27. 28. 29. 30. 31. 32. 33. 34. 35.\n",
      " 36. 37. 38. 39. 40. 41. 42. 43. 44. 45. 46. 47. 48. 49. 50. 51. 52. 53.\n",
      " 54. 55. 56. 57. 58. 59. 60. 61. 62. 63. 64. 65. 66. 67. 68. 69. 70. 71.\n",
      " 72. 73. 74. 75. 76. 77. 78. 79. 80. 81. 82. 83. 84. 85. 86. 87. 88. 89.\n",
      " 90. 91. 92. 93. 94. 95. 96. 97. 98. 99.]\n"
     ]
    }
   ],
   "source": [
    "print(dmcinfo.events())"
   ]
  },
  {
   "cell_type": "code",
   "execution_count": null,
   "id": "fb288491-1bf7-488e-b929-476d8d0b3757",
   "metadata": {},
   "outputs": [],
   "source": []
  }
 ],
 "metadata": {
  "kernelspec": {
   "display_name": "Python 3 (ipykernel)",
   "language": "python",
   "name": "python3"
  },
  "language_info": {
   "codemirror_mode": {
    "name": "ipython",
    "version": 3
   },
   "file_extension": ".py",
   "mimetype": "text/x-python",
   "name": "python",
   "nbconvert_exporter": "python",
   "pygments_lexer": "ipython3",
   "version": "3.10.12"
  }
 },
 "nbformat": 4,
 "nbformat_minor": 5
}
