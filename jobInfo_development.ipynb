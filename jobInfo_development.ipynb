{
 "cells": [
  {
   "cell_type": "code",
   "execution_count": null,
   "id": "cd396589-c586-46b0-90f1-a715194724eb",
   "metadata": {},
   "outputs": [],
   "source": [
    "from imports import *\n",
    "from cats.cdataframe import CDataFrame\n",
    "from jobInfo import jobInfo"
   ]
  },
  {
   "cell_type": "code",
   "execution_count": null,
   "id": "de1aebda-6d8f-40c1-a78d-cf442cdf5adc",
   "metadata": {},
   "outputs": [],
   "source": [
    "file = \"CDMSlite_10keV.root\"\n",
    "varray = CDataFrame(\"G4SettingsInfoDir/Versions\", file).AsNumpy()"
   ]
  },
  {
   "cell_type": "code",
   "execution_count": null,
   "id": "886cd915-6a0b-4418-97dc-feb467a23273",
   "metadata": {},
   "outputs": [],
   "source": [
    "dmcinfo = jobInfo([file,file,file],verbose=True)"
   ]
  },
  {
   "cell_type": "code",
   "execution_count": null,
   "id": "7ddb7e93-1536-44c7-9f65-b9d25a37e69a",
   "metadata": {},
   "outputs": [],
   "source": [
    "print(dmcinfo.macro())"
   ]
  },
  {
   "cell_type": "code",
   "execution_count": null,
   "id": "09e892db-e2ed-4b52-af95-13da42318a2c",
   "metadata": {},
   "outputs": [],
   "source": [
    "print(dmcinfo.versions())"
   ]
  },
  {
   "cell_type": "code",
   "execution_count": null,
   "id": "f09a1edd-012d-4bf1-bbf4-e3d5e210d9ac",
   "metadata": {},
   "outputs": [],
   "source": [
    "print(dmcinfo.events())"
   ]
  },
  {
   "cell_type": "code",
   "execution_count": null,
   "id": "fb288491-1bf7-488e-b929-476d8d0b3757",
   "metadata": {},
   "outputs": [],
   "source": []
  }
 ],
 "metadata": {
  "kernelspec": {
   "display_name": "Python 3 (ipykernel)",
   "language": "python",
   "name": "python3"
  },
  "language_info": {
   "codemirror_mode": {
    "name": "ipython",
    "version": 3
   },
   "file_extension": ".py",
   "mimetype": "text/x-python",
   "name": "python",
   "nbconvert_exporter": "python",
   "pygments_lexer": "ipython3",
   "version": "3.10.12"
  }
 },
 "nbformat": 4,
 "nbformat_minor": 5
}
