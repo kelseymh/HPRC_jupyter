{
 "cells": [
  {
   "cell_type": "code",
   "execution_count": null,
   "metadata": {},
   "outputs": [],
   "source": [
    "from imports import *\n",
    "%matplotlib inline\n",
    "\n",
    "# Pick up latest Python utilities from personal build\n",
    "sys.path.insert(0,\"/home/kelsey/software/supersim/CDMSpython\")\n",
    "import dmc"
   ]
  },
  {
   "cell_type": "code",
   "execution_count": null,
   "metadata": {},
   "outputs": [],
   "source": [
    "file2T = 'data/TES_TwoTemplate/FastDMC-2T_00240702_0000.root'\n",
    "fileODE = 'data/TES_TwoTemplate/cdmslite-ODE-elog1801_51240702_0000.root'\n",
    "rikLite = '/scratch/group/mitchcomp/CDMS/data/nolan/Rik_Samples/CDMSlite/10keV_BulkER/hits/custom/10keVBulkER_CDMSlite_Feb3_ODE_MaxLuke30Mil_200eVDownSamp/output/10keVBulkER_CDMSlite_Feb3_ODE_MaxLuke30Mil_200eVDownSamp_51250203_0000.root'"
   ]
  },
  {
   "cell_type": "code",
   "execution_count": null,
   "metadata": {},
   "outputs": [],
   "source": [
    "chaninfo = dmc.DetectorShape().Load(rikLite)\n",
    "chaninfo.Draw()"
   ]
  },
  {
   "cell_type": "code",
   "execution_count": null,
   "metadata": {},
   "outputs": [],
   "source": [
    "chaninfo = dmc.DetectorShape().Load(file2T)"
   ]
  },
  {
   "cell_type": "code",
   "execution_count": null,
   "metadata": {},
   "outputs": [],
   "source": [
    "chaninfo.Draw()\n",
    "plt.plot(0,-15,'y*',markersize=20,markeredgecolor='black')\n",
    "plt.savefig(\"2T_event-pos.png\")"
   ]
  },
  {
   "cell_type": "code",
   "execution_count": null,
   "metadata": {},
   "outputs": [],
   "source": [
    "chaninfo.Draw()\n",
    "plt.plot(0,0,'y*',markersize=20,markeredgecolor='black')\n",
    "plt.savefig(\"2T_event-center.png\")"
   ]
  },
  {
   "cell_type": "code",
   "execution_count": null,
   "metadata": {},
   "outputs": [],
   "source": [
    "branches = [\"PhononE\", \"PhononEfast\", \"PhononEslow\"]\n",
    "phononE2T = CDataFrame(\"G4SimDir/g4dmcEvent\", file2T).AsNumpy(branches)\n",
    "phononEODE = CDataFrame(\"G4SimDir/g4dmcEvent\", fileODE).AsNumpy(branches)"
   ]
  },
  {
   "cell_type": "code",
   "execution_count": null,
   "metadata": {},
   "outputs": [],
   "source": [
    "phononE2T"
   ]
  },
  {
   "cell_type": "code",
   "execution_count": null,
   "metadata": {},
   "outputs": [],
   "source": [
    "phononEODE"
   ]
  },
  {
   "cell_type": "code",
   "execution_count": null,
   "metadata": {},
   "outputs": [],
   "source": [
    "help(dmc.DetectorShape.Draw)"
   ]
  },
  {
   "cell_type": "code",
   "execution_count": null,
   "metadata": {},
   "outputs": [],
   "source": [
    "help(dmc.DetectorShape)"
   ]
  },
  {
   "cell_type": "code",
   "execution_count": null,
   "metadata": {},
   "outputs": [],
   "source": []
  }
 ],
 "metadata": {
  "kernelspec": {
   "display_name": "Python 3 (ipykernel)",
   "language": "python",
   "name": "python3"
  },
  "language_info": {
   "codemirror_mode": {
    "name": "ipython",
    "version": 3
   },
   "file_extension": ".py",
   "mimetype": "text/x-python",
   "name": "python",
   "nbconvert_exporter": "python",
   "pygments_lexer": "ipython3",
   "version": "3.10.12"
  }
 },
 "nbformat": 4,
 "nbformat_minor": 4
}
