{
 "cells": [
  {
   "cell_type": "code",
   "execution_count": null,
   "id": "487a9962-d475-468f-bd42-63d21f64d9c3",
   "metadata": {},
   "outputs": [],
   "source": [
    "from imports import *\n",
    "%matplotlib inline"
   ]
  },
  {
   "cell_type": "code",
   "execution_count": null,
   "id": "a27e6b83-aa9b-45c4-a6b6-b1f7521405cf",
   "metadata": {},
   "outputs": [],
   "source": [
    "datadir = \"data/phononTracks/\"\n",
    "dataset = datadir+\"singleStep-iZIP5_51250813_0000.root\""
   ]
  },
  {
   "cell_type": "code",
   "execution_count": null,
   "id": "08987a14-bf08-4c42-876f-d18e147ed1c7",
   "metadata": {},
   "outputs": [],
   "source": [
    "def getHits(file):\n",
    "    \"\"\"Load phonon collection data for plotting.\"\"\"\n",
    "    if not file: return None\n",
    "        \n",
    "    branches = [\"EventNum\",\"Track\",\"Step\",\"PName\",\"ChanNum\",\"QETNum\",\"X1\",\"Y1\",\"Z1\",\"X3\",\"Y3\",\"Z3\"]\n",
    "    hits = CDataFrame(\"G4SimDir/mczip0\", file).AsNumpy(branches)\n",
    "    hits[\"R1\"] = np.sqrt(hits[\"X1\"]**2+hits[\"Y1\"]**2)\n",
    "    hits[\"R3\"] = np.sqrt(hits[\"X3\"]**2+hits[\"Y3\"]**2)\n",
    "    return hits"
   ]
  },
  {
   "cell_type": "code",
   "execution_count": null,
   "id": "17eac506-d5c6-4715-a34a-5879d367a331",
   "metadata": {},
   "outputs": [],
   "source": [
    "hits = getHits(dataset)"
   ]
  },
  {
   "cell_type": "code",
   "execution_count": null,
   "id": "961c6232-693d-4a00-9728-e12452f31a58",
   "metadata": {},
   "outputs": [],
   "source": [
    "plt.hist((hits[\"R3\"][abs(hits[\"Z3\"])>0.012699]*1e3)**2,bins=100)\n",
    "plt.title(\"Phonon hit positions, excluding sidewalls\")\n",
    "plt.xlabel(\"R3^2 [mm^2]\")\n",
    "plt.savefig(datadir+\"Hits_vs_Rsq.png\")"
   ]
  },
  {
   "cell_type": "code",
   "execution_count": null,
   "id": "15da0f78-219e-4730-a7f9-95678d15f3dc",
   "metadata": {},
   "outputs": [],
   "source": [
    "chanPA = hits[\"ChanNum\"]==0\n",
    "chanPB = hits[\"ChanNum\"]==1\n",
    "chanTop = (hits[\"ChanNum\"]>=0) & (hits[\"ChanNum\"]<4)\n",
    "hasQET = hits[\"QETNum\"]>=0\n",
    "PAZ = []\n",
    "PAqetZ = []\n",
    "PBZ = []\n",
    "PBqetZ = []\n",
    "PtopZ = []\n",
    "PqetZ = []\n",
    "\n",
    "Z = np.arange(-12,13)\n",
    "for z in Z:\n",
    "    zcut = ((z-0.5)<hits[\"Z1\"]*1e3) & (hits[\"Z1\"]*1e3<(z+0.5))\n",
    "    PAZ.append(np.count_nonzero(chanPA & zcut))\n",
    "    PAqetZ.append(np.count_nonzero(chanPA & hasQET & zcut))\n",
    "    PBZ.append(np.count_nonzero(chanPB & zcut))\n",
    "    PBqetZ.append(np.count_nonzero(chanPB & hasQET & zcut))\n",
    "    PtopZ.append(np.count_nonzero(chanTop & zcut))\n",
    "    PqetZ.append(np.count_nonzero(chanTop & hasQET))\n",
    "\n",
    "PAZ = np.array(PAZ)\n",
    "PAqetZ = np.array(PAqetZ)\n",
    "PBZ = np.array(PBZ)\n",
    "PBqetZ = np.array(PBqetZ)\n",
    "PtopZ = np.array(PtopZ)\n",
    "PqetZ = np.array(PqetZ)"
   ]
  },
  {
   "cell_type": "code",
   "execution_count": null,
   "id": "8f5bbcdc-b0f4-43bf-868d-4c9fb197533c",
   "metadata": {},
   "outputs": [],
   "source": [
    "plt.plot(Z, PAZ/PtopZ, label=\"PA/Ptop\")\n",
    "plt.plot(Z, PBZ/PtopZ, label=\"PB/Ptop\")\n",
    "plt.title(\"Channel area fractions vs. Z1 at sidewall\")\n",
    "plt.xlabel(\"Z1 [mm]\")\n",
    "plt.ylabel(\"Channel fraction, 1 mm bins\")\n",
    "plt.legend()\n",
    "plt.savefig(datadir+\"ChannelFrac_vs_Z1.png\")"
   ]
  },
  {
   "cell_type": "code",
   "execution_count": null,
   "id": "1c2e9b05-1159-4108-af96-f6b5624c4210",
   "metadata": {},
   "outputs": [],
   "source": [
    "plt.plot(Z, PAqetZ/PqetZ, label=\"PA/Ptop\")\n",
    "plt.plot(Z, PBqetZ/PqetZ, label=\"PB/Ptop\")\n",
    "plt.title(\"Channel QET fractions vs. Z1 at sidewall\")\n",
    "plt.xlabel(\"Z1 [mm]\")\n",
    "plt.ylabel(\"Channel fraction, 1 mm bins\")\n",
    "plt.legend()\n",
    "plt.savefig(datadir+\"ChanQETfrac_vs_Z1.png\")"
   ]
  },
  {
   "cell_type": "code",
   "execution_count": null,
   "id": "519ce20e-0532-4a0f-9765-269bb23f38b8",
   "metadata": {},
   "outputs": [],
   "source": [
    "plt.plot(Z, PAqetZ/PAZ, label=\"PA\")\n",
    "plt.plot(Z, PBqetZ/PBZ, label=\"PB\")\n",
    "plt.title(\"QET coverage vs. Z1 at sidewall\")\n",
    "plt.xlabel(\"Z1 [mm]\")\n",
    "plt.ylabel(\"Collection QET/area, 1 mm bins\")\n",
    "plt.legend()\n",
    "plt.savefig(datadir+\"ChanQETarea_vs_Z1.png\")"
   ]
  },
  {
   "cell_type": "code",
   "execution_count": null,
   "id": "f5c09621-65e6-48b7-a5e3-484751f57bfd",
   "metadata": {},
   "outputs": [],
   "source": [
    "ycut = abs(hits[\"Y1\"]*1e3)<0.5\n",
    "xzcut = (abs(hits[\"X1\"]*1e3-37.7444)<0.2) & (abs(hits[\"Z1\"])*1e3<0.2)\n",
    "topcut = abs(hits[\"Z3\"])*1e3>12.65\n",
    "print((ycut&xzcut&topcut).sum())"
   ]
  },
  {
   "cell_type": "code",
   "execution_count": null,
   "id": "652c0591-8730-4492-a554-4ccdcd8a6c0d",
   "metadata": {},
   "outputs": [],
   "source": [
    "plt.scatter(hits[\"X3\"][ycut&xzcut&topcut],hits[\"Y3\"][ycut&xzcut&topcut])\n",
    "plt.savefig(datadir+\"Z0-Y0_topCaustics.png\")"
   ]
  },
  {
   "cell_type": "code",
   "execution_count": null,
   "id": "99e08548-2cbc-4cff-b06a-a8aa74b2a667",
   "metadata": {},
   "outputs": [],
   "source": []
  }
 ],
 "metadata": {
  "kernelspec": {
   "display_name": "Python 3 (ipykernel)",
   "language": "python",
   "name": "python3"
  },
  "language_info": {
   "codemirror_mode": {
    "name": "ipython",
    "version": 3
   },
   "file_extension": ".py",
   "mimetype": "text/x-python",
   "name": "python",
   "nbconvert_exporter": "python",
   "pygments_lexer": "ipython3",
   "version": "3.10.12"
  }
 },
 "nbformat": 4,
 "nbformat_minor": 5
}
