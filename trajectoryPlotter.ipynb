{
 "cells": [
  {
   "cell_type": "code",
   "execution_count": null,
   "id": "1e876ec1-5798-430f-a354-24674b4dacee",
   "metadata": {},
   "outputs": [],
   "source": [
    "from imports import *\n",
    "%matplotlib inline"
   ]
  },
  {
   "cell_type": "code",
   "execution_count": null,
   "id": "43f97266-8515-479c-9e74-1c5d96a7981c",
   "metadata": {},
   "outputs": [],
   "source": [
    "# Phonon trajectory datasets\n",
    "datadir = \"data/phononTracks/\"\n",
    "walk0mm  = datadir+\"phonon-1meV-0mm_51250806_0000.root\"\n",
    "walk34mm = datadir+\"phonon-1meV-34mm_51250806_0000.root\"\n",
    "walkbulk = datadir+\"phonon-1meV-bulk_51250807_0000.root\"\n",
    "ball0mm  = datadir+\"phonon-0.1meV-0mm_51250806_0000.root\"\n",
    "ball34mm = datadir+\"phonon-0.1meV-34mm_51250806_0000.root\"\n",
    "ballbulk = datadir+\"phonon-0.1meV-bulk_51250807_0000.root\""
   ]
  },
  {
   "cell_type": "code",
   "execution_count": null,
   "id": "d8f37140-4ed7-4a8b-ac09-8f185af5c28f",
   "metadata": {},
   "outputs": [],
   "source": [
    "# Load trajectories for given file\n",
    "def getTracks(file):\n",
    "    \"\"\"Load mcTrajectory TTree from specified file or files.\"\"\"\n",
    "    if not file: return None\n",
    "        \n",
    "    branches = [\"EventNum\",\"Track\",\"Step\",\"X1\",\"Y1\",\"Z1\",\"X3\",\"Y3\",\"Z3\",\"KE\",\"Yield\",\"PName\"]\n",
    "    steps = CDataFrame(\"G4SimDir/mcTrajectory\", file).AsNumpy(branches)\n",
    "    steps[\"R1\"] = np.sqrt(steps[\"X1\"]**2+steps[\"Y1\"]**2)\n",
    "    steps[\"R3\"] = np.sqrt(steps[\"X3\"]**2+steps[\"Y3\"]**2)\n",
    "    \n",
    "    return steps"
   ]
  },
  {
   "cell_type": "code",
   "execution_count": null,
   "id": "67eb96f1-4df9-44b0-973f-40c6227f03f6",
   "metadata": {},
   "outputs": [],
   "source": [
    "# Get list of unique tracks in event\n",
    "def listTraj(steps):\n",
    "    \"\"\"Extract table of (event,track) pairs from trajectory/step data.\"\"\"\n",
    "    evTrk = []\n",
    "\n",
    "    events = np.unique(steps[\"EventNum\"])\n",
    "    for ev in events:\n",
    "        isEv = steps[\"EventNum\"]==ev\n",
    "        evTrk.append((ev,trk) for trk in np.unique(steps[\"Track\"][isEv]))\n",
    "\n",
    "    return evTrk"
   ]
  },
  {
   "cell_type": "code",
   "execution_count": null,
   "id": "e8489eb6-7174-4110-b1dd-3b7de9c3b7a6",
   "metadata": {},
   "outputs": [],
   "source": [
    "# Build plottable trajectory for given track\n",
    "def trajectoryXYZ(steps, event, track):\n",
    "    \"\"\"Construct three arrays of X, Y and Z coordinates for track.\"\"\"\n",
    "    theTrack = (steps[\"EventNum\"]==event) & (steps[\"Track\"]==track)\n",
    "    step0 = steps[\"Step\"]==(steps[\"Step\"][theTrack].min())\n",
    "\n",
    "    trajX = [ steps[\"X1\"][theTrack & step0] ]\n",
    "    trajY = [ steps[\"Y1\"][theTrack & step0] ]\n",
    "    trajZ = [ steps[\"Z1\"][theTrack & step0] ]\n",
    "    for i in steps[\"Step\"][theTrack]:\n",
    "        stepi = steps[\"Step\"]==i\n",
    "        trajX.append(steps[\"X3\"][theTrack & stepi])\n",
    "        trajY.append(steps[\"Y3\"][theTrack & stepi])\n",
    "        trajZ.append(steps[\"Z3\"][theTrack & stepi])\n",
    "\n",
    "    return trajX,trajY,trajZ\n",
    "\n",
    "def trajectoryRZ(steps, event, track):\n",
    "    \"\"\"Construct two arrays of R,Z coordinates for track.\"\"\"\n",
    "    theTrack = (steps[\"EventNum\"]==event) & (steps[\"Track\"]==track)\n",
    "    step0 = steps[\"Step\"]==(steps[\"Step\"][theTrack].min())\n",
    "\n",
    "    trajR = [ steps[\"R1\"][theTrack & step0] ]\n",
    "    trajZ = [ steps[\"Z1\"][theTrack & step0] ]\n",
    "    for i in steps[\"Step\"][theTrack]:\n",
    "        stepi = steps[\"Step\"]==i\n",
    "        trajR.append(steps[\"R3\"][theTrack & stepi])\n",
    "        trajZ.append(steps[\"Z3\"][theTrack & stepi])\n",
    "\n",
    "    return trajR,trajZ"
   ]
  },
  {
   "cell_type": "code",
   "execution_count": null,
   "id": "15c243bc-3cc0-4a56-a4ad-f8874a4830de",
   "metadata": {},
   "outputs": [],
   "source": [
    "bouncing = getTracks(ball0mm)\n",
    "x,y,z = trajectoryXYZ(bouncing,0,0)\n",
    "plt.scatter(x,y,z)"
   ]
  },
  {
   "cell_type": "code",
   "execution_count": null,
   "id": "bfc51d2d-e26f-41d8-a3ff-af58f2253952",
   "metadata": {},
   "outputs": [],
   "source": []
  }
 ],
 "metadata": {
  "kernelspec": {
   "display_name": "Python 3 (ipykernel)",
   "language": "python",
   "name": "python3"
  },
  "language_info": {
   "codemirror_mode": {
    "name": "ipython",
    "version": 3
   },
   "file_extension": ".py",
   "mimetype": "text/x-python",
   "name": "python",
   "nbconvert_exporter": "python",
   "pygments_lexer": "ipython3",
   "version": "3.10.12"
  }
 },
 "nbformat": 4,
 "nbformat_minor": 5
}
