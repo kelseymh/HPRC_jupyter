{
 "cells": [
  {
   "cell_type": "code",
   "execution_count": null,
   "metadata": {},
   "outputs": [],
   "source": [
    "from rawio.IO import *\n",
    "import ROOT \n",
    "import root_numpy\n",
    "\n",
    "import matplotlib\n",
    "import matplotlib.pyplot as plt\n",
    "%matplotlib inline\n",
    "import pandas as pd\n",
    "pd.set_option(\"display.max_row\", 100)\n",
    "import numpy as np\n",
    "\n",
    "import sys\n",
    "import os, os.path \n",
    "import fnmatch\n",
    "import glob"
   ]
  },
  {
   "cell_type": "code",
   "execution_count": null,
   "metadata": {},
   "outputs": [],
   "source": [
    "# Function to convert our C-style char[] strings to RDataFrame std::strings\n",
    "# Why doesn't ROOT do this automatically (or have an option to do so)?\n",
    "ROOT.gInterpreter.Declare(\"\"\"\n",
    "std::string convertToString(const ROOT::VecOps::RVec<Char_t>& vec) {\n",
    "    std::string s;\n",
    "    size_t length = vec.size();\n",
    "    for (size_t i = 0; vec[i]!='\\\\0'; ++i) {   // Takes care of arrays with extra NUL at end\n",
    "        s += vec[i];\n",
    "        }\n",
    "    return s;\n",
    "    }\n",
    " \"\"\")"
   ]
  },
  {
   "cell_type": "code",
   "execution_count": null,
   "metadata": {},
   "outputs": [],
   "source": [
    "## NOTE: This version is for ROOT 6.24 and earlier; in ROOT 6.26, use rdf.Redefine() \n",
    "def cast_columns(rdf):\n",
    "    \"\"\"Convert char[] (C-style string) TBranches to strings, with new column names\n",
    "       Usage: fixed_rdf = cast_columns(ROOT::RDataFrame(.....))\n",
    "       After calling data = fixed_rdf.AsNumpy(), the original column name can be restored with\n",
    "       data['Branch'] = data.pop('Branch_cast')\n",
    "    \"\"\"\n",
    "    for column in rdf.GetColumnNames():\n",
    "        if rdf.GetColumnType(column) == \"ROOT::VecOps::RVec<Char_t>\":\n",
    "            rdf = rdf.Define(f\"{column}_cast\", f\"convertToString({column})\")\n",
    "            # NOTE: No way to rename or delete a column before 6.26; do it later via Numpy \n",
    "    return rdf"
   ]
  },
  {
   "cell_type": "code",
   "execution_count": null,
   "metadata": {},
   "outputs": [],
   "source": [
    "def cast_array(data):\n",
    "    \"\"\"Convert RDataFrame array columns to Numpy arrays, can replace in situ\n",
    "       Usage: numpy['Branch'] = cast_array(numpy['Branch'])\n",
    "    \"\"\"\n",
    "    casted_row = []\n",
    "    for row in data:\n",
    "        casted_row.append([i for i in row])\n",
    "    return np.array(casted_row)"
   ]
  },
  {
   "cell_type": "code",
   "execution_count": null,
   "metadata": {},
   "outputs": [],
   "source": [
    "def getSharingData(file):\n",
    "    \"\"\"Extract useful hit and energy-sharing information from specified file\n",
    "       Usage: numpyData = getSharingData('myRootFile.root')\n",
    "    \"\"\"\n",
    "    branches = ['EventNum','TrkStep','BoundaryStatus','PName','X3','Y3','Z3','Edep','PhononE','ChargeQ']\n",
    "    rdf = cast_columns(ROOT.RDataFrame(\"G4SimDir/mczip0\", file, branches))\n",
    "    data = rdf.AsNumpy(branches+['PName_cast'])\n",
    "    data['PName'] = data.pop('PName_cast')\n",
    "    data['PhononE'] = cast_array(data['PhononE'])\n",
    "    data['ChargeQ'] = cast_array(data['ChargeQ'])\n",
    "    return data"
   ]
  },
  {
   "cell_type": "code",
   "execution_count": null,
   "metadata": {},
   "outputs": [],
   "source": [
    "def getEventData(file):\n",
    "    \"\"\"Extract event summary data (hits per event, elapsed time, etc.)\"\"\"\n",
    "    branches = ['EventNum','Elapsed','HitsPerEvent']\n",
    "    rdf = cast_columns(ROOT.RDataFrame(\"G4SimDir/mcevent\", file, branches))\n",
    "    data = rdf.AsNumpy(branches)\n",
    "    return data"
   ]
  },
  {
   "cell_type": "code",
   "execution_count": null,
   "metadata": {},
   "outputs": [],
   "source": [
    "# Will want to get binning in getTraces() to eliminate this hardcoding\n",
    "# These are for iZIP5 and CDMSlite\n",
    "chargeBins = np.arange(-409600.0, 1228800, 800) * 1e-3\n",
    "phononBins = np.arange(-819200.0, 5734400, 1600) * 1e-3\n",
    "# These are for HV100mm\n",
    "###phononBins = np.arange(-26880000.0, 25548800, 1600) * 1e-3\n",
    "\n",
    "# Will want to get channel names from G4SettingsInfo/Geometry.ChanName list\n",
    "# Will want to get channel names from G4SettingsInfo/Geometry.ChanName list\n",
    "iZIP5qChans = ['Qo1','Qi1','Qo2','Qi2']\n",
    "iZIP5phChans = ['PAS1','PBS1','PCS1','PDS1','PAS2','PBS2','PCS2','PDS2']\n",
    "HVqChans = []\n",
    "HVphChans = ['PAS1','PBS1','PCS1','PDS1','PES1','PFS1','PAS2','PBS2','PCS2','PDS2','PES2','PFS2']"
   ]
  },
  {
   "cell_type": "code",
   "execution_count": null,
   "metadata": {},
   "outputs": [],
   "source": [
    "# Generic function used by getTES() and getFET() below\n",
    "# tree=\"g4dmcTES\" or \"g4dmcFET\"; function will take care of directory\n",
    "def getTraces(file, tree, chans, dtype=0):\n",
    "    traces = { chan: list() for chan in chans }      # Separate empty lists for each key\n",
    "\n",
    "    data = root_numpy.root2array(file, treename=\"G4SimDir/\"+tree, \n",
    "                                 branches = ['EventNum','Trace','ChanName'],\n",
    "                                 selection=f\"DataType=={dtype}\")\n",
    "    \n",
    "    # Copy traces for each event into new array indexed by event number\n",
    "    for i in range(len(data)):\n",
    "        for ch in traces.keys():\n",
    "            if data['ChanName'][i] == bytes(ch, \"ascii\"):\n",
    "                traces[ch].append(data['Trace'][i])\n",
    "    \n",
    "    for ch in traces.keys():\n",
    "        traces[ch] = np.array(traces[ch])\n",
    "\n",
    "    return traces"
   ]
  },
  {
   "cell_type": "code",
   "execution_count": null,
   "metadata": {},
   "outputs": [],
   "source": [
    "def getTES(file, chans, dtype=0):\n",
    "    tes = getTraces(file, \"g4dmcTES\", chans, dtype)\n",
    "\n",
    "    # Convert TES traces from downward to upward going, remove baseline offset\n",
    "    for ch in tes.keys():\n",
    "        tes[ch] = np.array([max(tr)-tr for tr in tes[ch]])\n",
    "        \n",
    "    return tes"
   ]
  },
  {
   "cell_type": "code",
   "execution_count": null,
   "metadata": {},
   "outputs": [],
   "source": [
    "def getFET(file, chans, dtype=0):\n",
    "    fet = getTraces(file, \"g4dmcFET\", chans, dtype)\n",
    "    return fet"
   ]
  },
  {
   "cell_type": "code",
   "execution_count": null,
   "metadata": {},
   "outputs": [],
   "source": [
    "pulsesFast = 'data/FastDMC/Pulses-10keV-elog1752_51230925_0000.root'\n",
    "pulsesFull = 'data/FastDMC/Pulses-10keV-V09-13-00_51230925_0000.root'"
   ]
  },
  {
   "cell_type": "code",
   "execution_count": null,
   "metadata": {},
   "outputs": [],
   "source": [
    "fastFET = getFET(pulsesFast, iZIP5qChans)\n",
    "fullFET = getFET(pulsesFull, iZIP5qChans)"
   ]
  },
  {
   "cell_type": "code",
   "execution_count": null,
   "metadata": {},
   "outputs": [],
   "source": [
    "event = 0\n",
    "#### Make overlay of QIS1, which is the cleanest trace\n",
    "fig1, axes = plt.subplots(1,1,figsize=(4,3), dpi=300)\n",
    "fig1.set_tight_layout(True)\n",
    "\n",
    "axes.plot(chargeBins, fullFET['Qi1'][event], lw=1, color='C0', label='G4DMC')\n",
    "axes.plot(chargeBins, fastFET['Qi1'][event], lw=1, color='C1', label='FastDMC')\n",
    "axes.legend(loc=\"upper right\")\n",
    "axes.set_xlabel(\"Time [\\u03BCs]\")\n",
    "axes.set_ylabel(\"FETSim [\\u03BCV]\")\n",
    "axes.set_title('Trace for Qi1 in Event ' + str(event))"
   ]
  },
  {
   "cell_type": "code",
   "execution_count": null,
   "metadata": {},
   "outputs": [],
   "source": [
    "fig1.savefig(\"FastDMC_Qi1.eps\")\n",
    "fig1.savefig(\"FastDMC_Qi1.png\")"
   ]
  },
  {
   "cell_type": "code",
   "execution_count": null,
   "metadata": {},
   "outputs": [],
   "source": [
    "iZIP5File = 'data/FastDMC/FastDMC-356keV_00230930_0000.root'\n",
    "HV100mmFile = 'data/FastDMC/HV100mmSi-Sharing-10keV_00230928_000000.root'"
   ]
  },
  {
   "cell_type": "code",
   "execution_count": null,
   "metadata": {},
   "outputs": [],
   "source": [
    "iZIP5data = getSharingData(iZIP5File)\n",
    "HV100mmData = getSharingData(HV100mmFile)"
   ]
  },
  {
   "cell_type": "code",
   "execution_count": null,
   "metadata": {},
   "outputs": [],
   "source": [
    "plt.subplots(figsize=(8,8))\n",
    "plt.scatter(iZIP5data['X3']*1e3,iZIP5data['Y3']*1e3,c=iZIP5data['Edep']/1e3)\n",
    "plt.title(\"iZIP5 356 keV gamma, Energy Deposit Positions\")\n",
    "plt.xlabel(\"[mm]\")\n",
    "cax = plt.axes([0.91, 0.12, 0.025, 0.76])\n",
    "bar = plt.colorbar(cax=cax)\n",
    "bar.set_label(\"Energy deposit [keV]\")\n",
    "plt.savefig(\"iZIP5_sharing-hits.png\")"
   ]
  },
  {
   "cell_type": "code",
   "execution_count": null,
   "metadata": {},
   "outputs": [],
   "source": [
    "plt.subplots(figsize=(8,8))\n",
    "plt.scatter(HV100mmData['X3']*1e3,HV100mmData['Y3']*1e3,c=HV100mmData['Edep']/1e3)\n",
    "plt.title(\"HV100mmSi 10 keV gamma, Energy Deposit Positions\")\n",
    "plt.xlabel(\"[mm]\")\n",
    "cax = plt.axes([0.91, 0.12, 0.025, 0.76])\n",
    "bar = plt.colorbar(cax=cax)\n",
    "bar.set_label(\"Energy deposit [keV]\")\n",
    "plt.savefig(\"HV100mm_sharing-hits.png\")"
   ]
  },
  {
   "cell_type": "code",
   "execution_count": null,
   "metadata": {},
   "outputs": [],
   "source": [
    "Etot = np.hstack([np.sum(iZIP5data['Edep'][iZIP5data['EventNum']==evt])/1e3 for evt in np.unique(iZIP5data['EventNum'])])\n",
    "\n",
    "plt.hist(Etot,bins=100,log=True)\n",
    "plt.xlabel(\"Event Energy [keV]\")\n",
    "plt.title(\"iZIP5 356 keV gamma, Total energy in detector\")\n",
    "plt.savefig(\"iZIP5-356keV_Etot.png\")"
   ]
  },
  {
   "cell_type": "code",
   "execution_count": null,
   "metadata": {},
   "outputs": [],
   "source": [
    "Etot = np.hstack([np.sum(HV100mmData['Edep'][HV100mmData['EventNum']==evt])/1e3 for evt in np.unique(HV100mmData['EventNum'])])\n",
    "\n",
    "plt.hist(Etot,bins=100,log=True)\n",
    "plt.xlabel(\"Event Energy [keV]\")\n",
    "plt.title(\"HV100mmSi 10 keV gamma, Total energy in detector\")\n",
    "plt.savefig(\"HV100mm-10keV_Etot.png\")"
   ]
  },
  {
   "cell_type": "code",
   "execution_count": null,
   "metadata": {},
   "outputs": [],
   "source": [
    "incident = (np.floor(HV100mmData['TrkStep']/100000) == 1)\n",
    "plt.subplots(figsize=(5,5))\n",
    "plt.scatter(HV100mmData['X3'][incident]*1e3,HV100mmData['Y3'][incident]*1e3,c=HV100mmData['TrkStep'][incident]%100000)\n",
    "plt.title(\"HV100mmSi 10 keV gamma, Hits From Primary\")\n",
    "plt.xlabel(\"[mm]\")\n",
    "cax = plt.axes([0.91, 0.12, 0.025, 0.76])\n",
    "bar = plt.colorbar(cax=cax)\n",
    "bar.set_label(\"Energy deposit [keV]\")\n",
    "plt.savefig(\"HV100mm_primaryOnlyHits.png\")"
   ]
  },
  {
   "cell_type": "code",
   "execution_count": null,
   "metadata": {},
   "outputs": [],
   "source": []
  }
 ],
 "metadata": {
  "kernelspec": {
   "display_name": "Python 3 (ipykernel)",
   "language": "python",
   "name": "python3"
  },
  "language_info": {
   "codemirror_mode": {
    "name": "ipython",
    "version": 3
   },
   "file_extension": ".py",
   "mimetype": "text/x-python",
   "name": "python",
   "nbconvert_exporter": "python",
   "pygments_lexer": "ipython3",
   "version": "3.10.12"
  }
 },
 "nbformat": 4,
 "nbformat_minor": 4
}
