{
 "cells": [
  {
   "cell_type": "code",
   "execution_count": null,
   "id": "c4e00dc5-d42a-4804-8105-3c52cbc90190",
   "metadata": {},
   "outputs": [],
   "source": [
    "from imports import *"
   ]
  },
  {
   "cell_type": "code",
   "execution_count": null,
   "id": "d5806152-3acc-4181-a0a5-b45e439d568b",
   "metadata": {},
   "outputs": [],
   "source": [
    "datadir = \"data/HVeV_1eh-events/\"\n",
    "NFC = glob.glob(datadir+\"NFC-1eh_*.root\")"
   ]
  },
  {
   "cell_type": "code",
   "execution_count": null,
   "id": "ff6d24e8-1193-4ef2-a070-0a2b7306d6d8",
   "metadata": {},
   "outputs": [],
   "source": [
    "branches = ['EventNum','PhononE']\n",
    "g4dmcEvent = CDataFrame(\"G4SimDir/g4dmcEvent\",NFC).AsNumpy(branches)"
   ]
  },
  {
   "cell_type": "code",
   "execution_count": null,
   "id": "bf0a218b-a5a8-44ba-a6e8-40482a362cc5",
   "metadata": {},
   "outputs": [],
   "source": [
    "plt.figure(figsize=(5,3))\n",
    "plt.subplots_adjust(bottom=0.18)\n",
    "plt.hist(g4dmcEvent['PhononE'].sum(axis=1),bins=100,range=[99.5,102.5])\n",
    "plt.title(\"HVeV NF-C @ 100V, 1.95 eV Energy deposit (1 e/h)\")\n",
    "plt.xlabel(\"Total Phonon Energy [eV]\")\n",
    "plt.ylabel(\"Events / 0.03 eV\")\n",
    "plt.savefig(datadir+\"NFC-1eh_PhononE.png\")\n",
    "plt.yscale('log')\n",
    "plt.savefig(datadir+\"NFC-1eh_PhononE_logy.png\")"
   ]
  },
  {
   "cell_type": "code",
   "execution_count": null,
   "id": "e7cccc19-ebcd-4c99-ab02-b0326fbeb4d2",
   "metadata": {},
   "outputs": [],
   "source": []
  }
 ],
 "metadata": {
  "kernelspec": {
   "display_name": "Python 3 (ipykernel)",
   "language": "python",
   "name": "python3"
  },
  "language_info": {
   "codemirror_mode": {
    "name": "ipython",
    "version": 3
   },
   "file_extension": ".py",
   "mimetype": "text/x-python",
   "name": "python",
   "nbconvert_exporter": "python",
   "pygments_lexer": "ipython3",
   "version": "3.10.12"
  }
 },
 "nbformat": 4,
 "nbformat_minor": 5
}
