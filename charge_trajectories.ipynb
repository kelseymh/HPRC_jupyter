{
 "cells": [
  {
   "cell_type": "code",
   "execution_count": null,
   "id": "4137e11d-5e89-4052-9840-b57774ff8233",
   "metadata": {},
   "outputs": [],
   "source": [
    "from imports import *\n",
    "from chargeSteps import chargeSteps\n",
    "import numpy as np"
   ]
  },
  {
   "cell_type": "code",
   "execution_count": null,
   "id": "6246d5f8-a98a-416a-98ed-706033d604c5",
   "metadata": {},
   "outputs": [],
   "source": [
    "# Full trajectories (20 events per sample)\n",
    "data = chargeSteps('data/EPot_highV/trajectory', 'HV100mm')"
   ]
  },
  {
   "cell_type": "code",
   "execution_count": null,
   "id": "77927010-029c-40c7-a964-5c14f0cce143",
   "metadata": {},
   "outputs": [],
   "source": [
    "data.PlotTrajectory(\"U\",1)"
   ]
  },
  {
   "cell_type": "code",
   "execution_count": null,
   "id": "c1787d0b-4e61-4c74-8c32-099652ac7324",
   "metadata": {},
   "outputs": [],
   "source": [
    "data.PlotTrajectory(\"U\",10)"
   ]
  },
  {
   "cell_type": "code",
   "execution_count": null,
   "id": "4059ea12-e6da-4f99-ad82-313ee46a4aa1",
   "metadata": {},
   "outputs": [],
   "source": [
    "data.PlotTrajectory(\"U\",100)"
   ]
  },
  {
   "cell_type": "code",
   "execution_count": null,
   "id": "7b49cc72-8114-4499-90a3-3406f01adaa0",
   "metadata": {},
   "outputs": [],
   "source": [
    "data.PlotTrajectory(\"E\",1)"
   ]
  },
  {
   "cell_type": "code",
   "execution_count": null,
   "id": "b64233ad-4d83-4187-92fe-10ded81a7bf6",
   "metadata": {},
   "outputs": [],
   "source": [
    "data.PlotTrajectory(\"E\",1,rlim=(46,51),zlim=(-17,-15))"
   ]
  },
  {
   "cell_type": "code",
   "execution_count": null,
   "id": "95c291b9-e0c4-45a5-ac30-6ca45f5d6f55",
   "metadata": {},
   "outputs": [],
   "source": [
    "data.PlotTrajectory(\"E\",10)"
   ]
  },
  {
   "cell_type": "code",
   "execution_count": null,
   "id": "d3b9c34b-5221-49a4-8979-ea749d39e49e",
   "metadata": {},
   "outputs": [],
   "source": [
    "data.PlotTrajectory(\"E\",10,rlim=(46,51),zlim=(-17,-15))"
   ]
  },
  {
   "cell_type": "code",
   "execution_count": null,
   "id": "a0748353-3fcf-478b-b2a3-361ee5a6ae81",
   "metadata": {},
   "outputs": [],
   "source": [
    "data.PlotTrajectory(\"E\",100)"
   ]
  },
  {
   "cell_type": "code",
   "execution_count": null,
   "id": "63fe36fc-3b77-470b-8943-09493fdd53de",
   "metadata": {},
   "outputs": [],
   "source": [
    "data.PlotTrajectory(\"E\",100,rlim=(46,51),zlim=(-17,-15))"
   ]
  },
  {
   "cell_type": "code",
   "execution_count": null,
   "id": "e41ee51d-3d6f-41e4-9001-128c580a9310",
   "metadata": {},
   "outputs": [],
   "source": []
  }
 ],
 "metadata": {
  "kernelspec": {
   "display_name": "Python 3 (ipykernel)",
   "language": "python",
   "name": "python3"
  },
  "language_info": {
   "codemirror_mode": {
    "name": "ipython",
    "version": 3
   },
   "file_extension": ".py",
   "mimetype": "text/x-python",
   "name": "python",
   "nbconvert_exporter": "python",
   "pygments_lexer": "ipython3",
   "version": "3.10.12"
  }
 },
 "nbformat": 4,
 "nbformat_minor": 5
}
